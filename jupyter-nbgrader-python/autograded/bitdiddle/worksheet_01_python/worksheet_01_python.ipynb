{
 "cells": [
  {
   "cell_type": "markdown",
   "metadata": {},
   "source": [
    "# Worksheet 1: Introduction to Data Science\n",
    "\n",
    "Welcome to DSCI 100: Introduction to Data Science!  \n",
    "\n",
    "Each week you will complete a lecture assignment like this one. For this worksheet, there are two parts:\n",
    "\n",
    "1. [Introduction to using Jupyter Notebooks](#1.-Introduction-to-Jupyter-Notebooks)\n",
    "2. [Introduction to analyzing data in R](#2.-Analyze-some-data)"
   ]
  },
  {
   "cell_type": "markdown",
   "metadata": {},
   "source": [
    "## 1. Introduction to Jupyter Notebooks\n",
    "This webpage is called a Jupyter notebook. A notebook is a place to write programs and view their results.\n",
    "\n",
    "### 1.1. Text Cells\n",
    "In a notebook, each rectangle containing text or code is called a *cell*.\n",
    "\n",
    "Text cells (like this one) can be edited by double-clicking on them. They're written in a simple format called [Markdown](http://daringfireball.net/projects/markdown/syntax) to add formatting and section headings.  You don't need to learn Markdown, but you might want to.\n",
    "\n",
    "After you edit a text cell, click the \"run cell\" button at the top that looks like ▶| to confirm any changes. (Try not to delete the instructions of the lab.)"
   ]
  },
  {
   "cell_type": "markdown",
   "metadata": {},
   "source": [
    "**Question 1.1.1.** This paragraph is in its own text cell.  Try editing it so that all of the sentences following this one are deleted, then click the \"run cell\" ▶| button.  This sentence, for example, should be deleted.  So should this one."
   ]
  },
  {
   "cell_type": "markdown",
   "metadata": {},
   "source": [
    "### 1.2. Code Cells\n",
    "Other cells contain code in the Python language. Running a code cell will execute all of the code it contains.\n",
    "\n",
    "To run the code in a cell, first click on that cell to activate it.  It'll be highlighted with a little green or blue rectangle.  Next, either press Run ▶| or hold down the `shift` key and press `return` or `enter`.\n",
    "\n",
    "Try running the next cell:"
   ]
  },
  {
   "cell_type": "code",
   "execution_count": 1,
   "metadata": {},
   "outputs": [
    {
     "name": "stdout",
     "output_type": "stream",
     "text": [
      "Hello, World!\n"
     ]
    }
   ],
   "source": [
    "print(\"Hello, World!\")"
   ]
  },
  {
   "cell_type": "markdown",
   "metadata": {},
   "source": [
    "The above code cell contains a single line of code, but cells can also contain multiple lines of code. When you run a cell, the lines of code are executed in the order in which they appear. Every `print` expression prints a line. Run the next cell and notice the order of the output."
   ]
  },
  {
   "cell_type": "code",
   "execution_count": 2,
   "metadata": {},
   "outputs": [
    {
     "name": "stdout",
     "output_type": "stream",
     "text": [
      "First this line is printed,\n",
      "and then this one.\n"
     ]
    }
   ],
   "source": [
    "print(\"First this line is printed,\")\n",
    "print(\"and then this one.\")"
   ]
  },
  {
   "cell_type": "markdown",
   "metadata": {},
   "source": [
    "### 1.3. Adding cells to Jupyter Notebooks\n",
    "You can use Jupyter notebooks for your own projects or documents.  When you make your own notebook, you'll need to create your own cells for text and code.\n",
    "\n",
    "To add a cell, click the + button in the menu bar.  It'll start out as a code cell.  You can change it to a text cell by clicking inside it so it's highlighted, clicking the drop-down box next to the restart (⟳) button in the menu bar, and choosing \"Markdown\".\n",
    "\n",
    "**Question 1.3.1.** Add a code cell below this one.  Write code in it that prints out:\n",
    "   \n",
    "    A whole new code cell!\n",
    "\n",
    "Run your cell to verify that it works."
   ]
  },
  {
   "cell_type": "markdown",
   "metadata": {},
   "source": [
    "**Question 1.3.2** Add a text/Markdown cell below this one. Write the text \"A whole new Markdown cell\" in it."
   ]
  },
  {
   "cell_type": "markdown",
   "metadata": {
    "deletable": false,
    "editable": false,
    "nbgrader": {
     "cell_type": "markdown",
     "checksum": "96036f5f3c62badc38106a8cb39dbe7b",
     "grade": false,
     "grade_id": "cell-68f2a6ed1f896684",
     "locked": true,
     "schema_version": 3,
     "solution": false
    }
   },
   "source": [
    "# 2. Analyze some data\n",
    "\n",
    "Now that you know how to use a Jupyter notebook, we will start to analyze some data. As you do this, we provide feedback via tests so you can check if your work is correct. To do this, you will need to run the cell below to set things up. "
   ]
  },
  {
   "cell_type": "code",
   "execution_count": 3,
   "metadata": {},
   "outputs": [],
   "source": [
    "# run this cell to setup the automated feedback \n",
    "import tests_worksheet_01 as t"
   ]
  },
  {
   "cell_type": "markdown",
   "metadata": {
    "deletable": false,
    "editable": false,
    "nbgrader": {
     "cell_type": "markdown",
     "checksum": "e519a1df393ebe1827ff88995926fa9d",
     "grade": false,
     "grade_id": "cell-c661f635dc052045",
     "locked": true,
     "schema_version": 3,
     "solution": false,
     "task": false
    }
   },
   "source": [
    "### Question 2.1 - importing packages\n",
    "{points: 1} \n",
    "\n",
    "Using the `import` function, import the `pandas` package using the alias `pd`, and the `altair` package using the `alt` alias in the cell below:"
   ]
  },
  {
   "cell_type": "code",
   "execution_count": 4,
   "metadata": {
    "deletable": false,
    "nbgrader": {
     "cell_type": "code",
     "checksum": "39e517a4a2dbab9aee1139b99424fa61",
     "grade": false,
     "grade_id": "cell-a867ad743fd3e3ce",
     "locked": false,
     "schema_version": 3,
     "solution": true,
     "task": false
    }
   },
   "outputs": [],
   "source": [
    "# write your code here\n",
    "import pandas as pd\n",
    "import altair as alt"
   ]
  },
  {
   "cell_type": "markdown",
   "metadata": {},
   "source": [
    "To check whether the code you wrote above was correct, run the cell below. If your code is correct, it will print \"Success\" to tell you that. If your code is not correct, it will give you a hint towards the correct answer."
   ]
  },
  {
   "cell_type": "code",
   "execution_count": 5,
   "metadata": {
    "deletable": false,
    "editable": false,
    "nbgrader": {
     "cell_type": "code",
     "checksum": "965112eba761a436956a241023363f2c",
     "grade": true,
     "grade_id": "cell-716f95a0b81eaeb3",
     "locked": true,
     "points": 1,
     "schema_version": 3,
     "solution": false
    }
   },
   "outputs": [
    {
     "data": {
      "text/plain": [
       "'Success!'"
      ]
     },
     "execution_count": 5,
     "metadata": {},
     "output_type": "execute_result"
    }
   ],
   "source": [
    "# run this cell to test your answer to the question above\n",
    "t.test_2_1(dir())"
   ]
  },
  {
   "cell_type": "markdown",
   "metadata": {},
   "source": [
    "> Note: if you run the above cell and see an error like this:\n",
    ">\n",
    ">```\n",
    ">---------------------------------------------------------------------------\n",
    ">NameError                                 Traceback (most recent call last)\n",
    "><ipython-input-1-1be3d32133e4> in <module>\n",
    ">      1 # run this cell to test your answer to the question above\n",
    ">----> 2 t.test_2_1()\n",
    ">\n",
    ">NameError: name 't' is not defined\n",
    ">```\n",
    ">\n",
    ">That means you probably forgot to run the cell above to setup the automated feedback. Try running `import tests_worksheet_01 as t` and testing your answer again."
   ]
  },
  {
   "cell_type": "markdown",
   "metadata": {},
   "source": [
    "### Is there a relationship between 5 km race time and body mass index in women runners?\n",
    "\n",
    "Now let's us Python to answer a research question for which we have some data (described below) - is there a relationship between two quantitative varbiables: 5 km race time and body mass index (BMI) for women runners in this data set. To answer this exploratory question, we will need to do the following things in R:\n",
    "\n",
    "1. load the data set into Python\n",
    "2. subset & transform the data we are interested in visualizing from the loaded dataset\n",
    "3. create a new column to get the unit of time in minutes instead of seconds\n",
    "4. create a plot to visualize this modified data\n",
    "\n",
    "*Note - subsetting the data and converting from seconds to minutes is not absolutely required to answer our question, but it will give us practice manipulating data in R, and make our data tables and figures more readable.*\n"
   ]
  },
  {
   "cell_type": "markdown",
   "metadata": {},
   "source": [
    "> #### About the data set\n",
    "> Researchers, Vickers and Vertosick performed [a study in 2016](https://bmcsportsscimedrehabil.biomedcentral.com/articles/10.1186/s13102-016-0052-y) that aimed to identify what factors had a relationship with race performance of recreational runners so that they could better predict future 5 km, 10 km and marathon race times for individual runners. Such predictions (and knowing what drives these predictions) can help runners by suggesting changes they could make to modifiable factors, such as training, to help them improve race time. Unmodifiable factors that contribute to the prediction, such as age or sex, allow for fair comparisons to be made between different runners.\n",
    ">\n",
    ">Vickers and Vertosick reasoned that their study is important because all previous research done to predict races times has focused on data from elite athletes. This biased data set means that the predictions generated from them do not necessarily do a good job predicting race times for recreational runners (whose data was not in the dataset that was used to create the model that generates the predictions). Additionally, previous research focused on reporting/measuring factors that require special expertise or equipment that are not freely available to recreational runners. This means that recreational runners may not be able to put their characteristics/measurements for these factors in the race time prediction models and so they will not be able to obtain an accurate prediction, or a prediction at all (in the case of some models).\n",
    ">\n",
    ">To make a better model, Vickers and Vertosick performed a large survey. They put their survey on the news website [Slate.com](https://slate.com/) attached to a news story about race time prediction. They were able to obtain 2,497 responses. The survey included questions that allowed them to collect a data set that included: \n",
    ">- age,\n",
    ">- sex,\n",
    ">- body mass index (BMI),\n",
    ">- whether they are an edurance runner or speed demon,\n",
    ">- what type of shoes they wear,\n",
    ">- what type of training they do,\n",
    ">- race time for 2-3 races they completed in the last 6 months,\n",
    ">- self-rated fitness for each race,\n",
    ">- and race difficulty for each race.\n",
    ">\n",
    "\n"
   ]
  },
  {
   "cell_type": "markdown",
   "metadata": {
    "deletable": false,
    "editable": false,
    "nbgrader": {
     "cell_type": "markdown",
     "checksum": "be50df17e318749863b1d602998945b6",
     "grade": false,
     "grade_id": "cell-e36918dd5663c9dc",
     "locked": true,
     "schema_version": 3,
     "solution": false
    }
   },
   "source": [
    "### Question 2.2 - Multiple Choice: \n",
    "{points: 1}\n",
    "\n",
    "What kind of graph will we be creating? Choose the correct answer from the options below. \n",
    "\n",
    "A. Bar Graph \n",
    "\n",
    "B. Pie Chart\n",
    "\n",
    "C. Scatter Plot\n",
    "\n",
    "D. Box Plot \n",
    "\n",
    "*Assign the letter that corresponds to your answer to an object called `answer2_2`. Be sure to surround your answer with quotation marks.* "
   ]
  },
  {
   "cell_type": "code",
   "execution_count": 6,
   "metadata": {
    "deletable": false,
    "nbgrader": {
     "cell_type": "code",
     "checksum": "385c71f48366f1e26a98dd7a26124b84",
     "grade": false,
     "grade_id": "cell-7f040d5aa4ed234b",
     "locked": false,
     "schema_version": 3,
     "solution": true
    }
   },
   "outputs": [
    {
     "data": {
      "text/plain": [
       "'B'"
      ]
     },
     "execution_count": 6,
     "metadata": {},
     "output_type": "execute_result"
    }
   ],
   "source": [
    "# Replace NULL with the letter that corresponds to your answer.\n",
    "# Be sure to surround your answer with quotation marks.\n",
    "answer2_2 = \"B\"\n",
    "\n",
    "answer2_2"
   ]
  },
  {
   "cell_type": "code",
   "execution_count": 7,
   "metadata": {
    "deletable": false,
    "editable": false,
    "nbgrader": {
     "cell_type": "code",
     "checksum": "890ec1316ba5fda75b9eae026682c2c6",
     "grade": true,
     "grade_id": "cell-3fd5ce0f36d5dac8",
     "locked": true,
     "points": 1,
     "schema_version": 3,
     "solution": false
    }
   },
   "outputs": [
    {
     "ename": "AssertionError",
     "evalue": "Your answer is incorrect.",
     "output_type": "error",
     "traceback": [
      "\u001b[0;31m---------------------------------------------------------------------------\u001b[0m",
      "\u001b[0;31mAssertionError\u001b[0m                            Traceback (most recent call last)",
      "\u001b[0;32m<ipython-input-7-0ebbf37bf15a>\u001b[0m in \u001b[0;36m<module>\u001b[0;34m\u001b[0m\n\u001b[1;32m      1\u001b[0m \u001b[0;31m# run this cell to test your answer to the question above\u001b[0m\u001b[0;34m\u001b[0m\u001b[0;34m\u001b[0m\u001b[0;34m\u001b[0m\u001b[0m\n\u001b[0;32m----> 2\u001b[0;31m \u001b[0mt\u001b[0m\u001b[0;34m.\u001b[0m\u001b[0mtest_2_2\u001b[0m\u001b[0;34m(\u001b[0m\u001b[0manswer2_2\u001b[0m\u001b[0;34m)\u001b[0m\u001b[0;34m\u001b[0m\u001b[0;34m\u001b[0m\u001b[0m\n\u001b[0m",
      "\u001b[0;32m~/Documents/feed-me-back/examples/04-jupyter-nbgrader-python/autograded/bitdiddle/worksheet_01_python/tests_worksheet_01.py\u001b[0m in \u001b[0;36mtest_2_2\u001b[0;34m(answer)\u001b[0m\n\u001b[1;32m     15\u001b[0m     \u001b[0;32massert\u001b[0m \u001b[0manswer\u001b[0m \u001b[0;32mis\u001b[0m \u001b[0;32mnot\u001b[0m \u001b[0;32mNone\u001b[0m\u001b[0;34m,\u001b[0m \u001b[0;34m'You should assign a value of \"A\", \"B\", \"C\", or \"D\" to the answer2_2 object.'\u001b[0m\u001b[0;34m\u001b[0m\u001b[0;34m\u001b[0m\u001b[0m\n\u001b[1;32m     16\u001b[0m     \u001b[0manswer\u001b[0m \u001b[0;34m=\u001b[0m \u001b[0manswer\u001b[0m\u001b[0;34m.\u001b[0m\u001b[0mupper\u001b[0m\u001b[0;34m(\u001b[0m\u001b[0;34m)\u001b[0m\u001b[0;34m\u001b[0m\u001b[0;34m\u001b[0m\u001b[0m\n\u001b[0;32m---> 17\u001b[0;31m     \u001b[0;32massert\u001b[0m \u001b[0msha1\u001b[0m\u001b[0;34m(\u001b[0m\u001b[0mstr\u001b[0m\u001b[0;34m(\u001b[0m\u001b[0manswer\u001b[0m\u001b[0;34m)\u001b[0m\u001b[0;34m.\u001b[0m\u001b[0mencode\u001b[0m\u001b[0;34m(\u001b[0m\u001b[0;34m'utf8'\u001b[0m\u001b[0;34m)\u001b[0m\u001b[0;34m)\u001b[0m\u001b[0;34m.\u001b[0m\u001b[0mhexdigest\u001b[0m\u001b[0;34m(\u001b[0m\u001b[0;34m)\u001b[0m \u001b[0;34m==\u001b[0m \u001b[0;34m'32096c2e0eff33d844ee6d675407ace18289357d'\u001b[0m\u001b[0;34m,\u001b[0m \u001b[0;34m\"Your answer is incorrect.\"\u001b[0m \u001b[0;31m# we hid the answer to the test here so you can't see it, but we can still run the test\u001b[0m\u001b[0;34m\u001b[0m\u001b[0;34m\u001b[0m\u001b[0m\n\u001b[0m\u001b[1;32m     18\u001b[0m     \u001b[0;32mreturn\u001b[0m \u001b[0;34m\"Success\"\u001b[0m\u001b[0;34m\u001b[0m\u001b[0;34m\u001b[0m\u001b[0m\n\u001b[1;32m     19\u001b[0m \u001b[0;34m\u001b[0m\u001b[0m\n",
      "\u001b[0;31mAssertionError\u001b[0m: Your answer is incorrect."
     ]
    }
   ],
   "source": [
    "# run this cell to test your answer to the question above\n",
    "t.test_2_2(answer2_2)"
   ]
  },
  {
   "cell_type": "markdown",
   "metadata": {
    "deletable": false,
    "editable": false,
    "nbgrader": {
     "cell_type": "markdown",
     "checksum": "011a3465f716c42932a86768ed2d6561",
     "grade": false,
     "grade_id": "cell-fdce32634531f220",
     "locked": true,
     "schema_version": 3,
     "solution": false
    }
   },
   "source": [
    "### Question 2.3 - load the dataset into R\n",
    "{points: 1}\n",
    "\n",
    "The data set we are loading is called `race_times.csv` and it contains a subset of the data from the study described above. The file is in the same directory/folder as the file for this notebook. It is a comma separated file (meaning the columns are separated by the `,` character).\n",
    "\n",
    "Fill in the `...` in the cell below to load this data into Python. To do this use the `pd.read_csv()` function. Doing this will save the data from `race_times.csv` to an object called `race_times`. \n",
    "\n",
    "If you need additional help try `?pd.read_csv` and/or ask your neighbours or the Instructional team for help."
   ]
  },
  {
   "cell_type": "code",
   "execution_count": 8,
   "metadata": {
    "deletable": false,
    "nbgrader": {
     "cell_type": "code",
     "checksum": "fdb595c1f689b8a5e360fc925d5f0d41",
     "grade": false,
     "grade_id": "cell-7375b9bbe05dcbdf",
     "locked": false,
     "schema_version": 3,
     "solution": true
    }
   },
   "outputs": [
    {
     "data": {
      "text/html": [
       "<div>\n",
       "<style scoped>\n",
       "    .dataframe tbody tr th:only-of-type {\n",
       "        vertical-align: middle;\n",
       "    }\n",
       "\n",
       "    .dataframe tbody tr th {\n",
       "        vertical-align: top;\n",
       "    }\n",
       "\n",
       "    .dataframe thead th {\n",
       "        text-align: right;\n",
       "    }\n",
       "</style>\n",
       "<table border=\"1\" class=\"dataframe\">\n",
       "  <thead>\n",
       "    <tr style=\"text-align: right;\">\n",
       "      <th></th>\n",
       "      <th>age</th>\n",
       "      <th>bmi</th>\n",
       "      <th>km5_time_seconds</th>\n",
       "      <th>km10_time_seconds</th>\n",
       "      <th>sex</th>\n",
       "    </tr>\n",
       "  </thead>\n",
       "  <tbody>\n",
       "    <tr>\n",
       "      <th>0</th>\n",
       "      <td>25.0</td>\n",
       "      <td>21.622116</td>\n",
       "      <td>NaN</td>\n",
       "      <td>2798.0</td>\n",
       "      <td>female</td>\n",
       "    </tr>\n",
       "    <tr>\n",
       "      <th>1</th>\n",
       "      <td>41.0</td>\n",
       "      <td>23.905970</td>\n",
       "      <td>1210.0</td>\n",
       "      <td>NaN</td>\n",
       "      <td>male</td>\n",
       "    </tr>\n",
       "    <tr>\n",
       "      <th>2</th>\n",
       "      <td>25.0</td>\n",
       "      <td>21.640728</td>\n",
       "      <td>994.0</td>\n",
       "      <td>NaN</td>\n",
       "      <td>male</td>\n",
       "    </tr>\n",
       "    <tr>\n",
       "      <th>3</th>\n",
       "      <td>35.0</td>\n",
       "      <td>23.592323</td>\n",
       "      <td>1075.0</td>\n",
       "      <td>2135.0</td>\n",
       "      <td>male</td>\n",
       "    </tr>\n",
       "    <tr>\n",
       "      <th>4</th>\n",
       "      <td>34.0</td>\n",
       "      <td>22.706404</td>\n",
       "      <td>1186.0</td>\n",
       "      <td>NaN</td>\n",
       "      <td>male</td>\n",
       "    </tr>\n",
       "  </tbody>\n",
       "</table>\n",
       "</div>"
      ],
      "text/plain": [
       "    age        bmi  km5_time_seconds  km10_time_seconds     sex\n",
       "0  25.0  21.622116               NaN             2798.0  female\n",
       "1  41.0  23.905970            1210.0                NaN    male\n",
       "2  25.0  21.640728             994.0                NaN    male\n",
       "3  35.0  23.592323            1075.0             2135.0    male\n",
       "4  34.0  22.706404            1186.0                NaN    male"
      ]
     },
     "execution_count": 8,
     "metadata": {},
     "output_type": "execute_result"
    }
   ],
   "source": [
    "race_times = pd.read_csv(\"race_times.csv\")\n",
    "\n",
    "race_times.head()"
   ]
  },
  {
   "cell_type": "code",
   "execution_count": 9,
   "metadata": {
    "deletable": false,
    "editable": false,
    "nbgrader": {
     "cell_type": "code",
     "checksum": "9bf0713c577ba8ceb948970efb7d9032",
     "grade": true,
     "grade_id": "cell-cc0d111865dbbfd7",
     "locked": true,
     "points": 1,
     "schema_version": 3,
     "solution": false
    }
   },
   "outputs": [
    {
     "data": {
      "text/plain": [
       "'Success'"
      ]
     },
     "execution_count": 9,
     "metadata": {},
     "output_type": "execute_result"
    }
   ],
   "source": [
    "# run this cell to test your answer to the question above\n",
    "t.test_2_3(race_times)"
   ]
  },
  {
   "cell_type": "markdown",
   "metadata": {},
   "source": [
    "### Question 2.4 - subset and transform the data we are interested in \n",
    "{points: 1}\n",
    "\n",
    "Rearrange the lines of code given below to subset the data we are interested in visualizing (BMI & 5 km race time for women runners), drop missing values (for 5 km race times only), and transform the race time units from seconds to minutes."
   ]
  },
  {
   "cell_type": "code",
   "execution_count": 10,
   "metadata": {
    "deletable": false,
    "nbgrader": {
     "cell_type": "code",
     "checksum": "d9fbd02abecb7d00d5de58fb741d1117",
     "grade": false,
     "grade_id": "cell-e7beff787df8a914",
     "locked": false,
     "schema_version": 3,
     "solution": true
    }
   },
   "outputs": [
    {
     "data": {
      "text/html": [
       "<div>\n",
       "<style scoped>\n",
       "    .dataframe tbody tr th:only-of-type {\n",
       "        vertical-align: middle;\n",
       "    }\n",
       "\n",
       "    .dataframe tbody tr th {\n",
       "        vertical-align: top;\n",
       "    }\n",
       "\n",
       "    .dataframe thead th {\n",
       "        text-align: right;\n",
       "    }\n",
       "</style>\n",
       "<table border=\"1\" class=\"dataframe\">\n",
       "  <thead>\n",
       "    <tr style=\"text-align: right;\">\n",
       "      <th></th>\n",
       "      <th>bmi</th>\n",
       "      <th>km5_time_seconds</th>\n",
       "      <th>km5_time_minutes</th>\n",
       "    </tr>\n",
       "  </thead>\n",
       "  <tbody>\n",
       "    <tr>\n",
       "      <th>5</th>\n",
       "      <td>42.087543</td>\n",
       "      <td>3240.0</td>\n",
       "      <td>54.000000</td>\n",
       "    </tr>\n",
       "    <tr>\n",
       "      <th>9</th>\n",
       "      <td>25.408615</td>\n",
       "      <td>2115.0</td>\n",
       "      <td>35.250000</td>\n",
       "    </tr>\n",
       "    <tr>\n",
       "      <th>14</th>\n",
       "      <td>20.869856</td>\n",
       "      <td>1690.0</td>\n",
       "      <td>28.166667</td>\n",
       "    </tr>\n",
       "    <tr>\n",
       "      <th>21</th>\n",
       "      <td>23.582571</td>\n",
       "      <td>1603.0</td>\n",
       "      <td>26.716667</td>\n",
       "    </tr>\n",
       "    <tr>\n",
       "      <th>22</th>\n",
       "      <td>20.035063</td>\n",
       "      <td>1457.0</td>\n",
       "      <td>24.283333</td>\n",
       "    </tr>\n",
       "  </tbody>\n",
       "</table>\n",
       "</div>"
      ],
      "text/plain": [
       "          bmi  km5_time_seconds  km5_time_minutes\n",
       "5   42.087543            3240.0         54.000000\n",
       "9   25.408615            2115.0         35.250000\n",
       "14  20.869856            1690.0         28.166667\n",
       "21  23.582571            1603.0         26.716667\n",
       "22  20.035063            1457.0         24.283333"
      ]
     },
     "execution_count": 10,
     "metadata": {},
     "output_type": "execute_result"
    }
   ],
   "source": [
    "# Rearrange the commented out lines of code given below to subset the data we are interested in visualizing,\n",
    "# drop missing values, and transform the race time units from seconds to minutes.\n",
    "# To run the code, uncomment it (remove \"#\").\n",
    "\n",
    "race_times_women = race_times[race_times['sex'] == 'female']\n",
    "race_times_women  = race_times_women[['bmi', 'km5_time_seconds']]\n",
    "race_times_women = race_times_women.dropna()\n",
    "race_times_women['km5_time_minutes'] = race_times_women['km5_time_seconds'] / 60\n",
    "\n",
    "race_times_women.head()"
   ]
  },
  {
   "cell_type": "code",
   "execution_count": 11,
   "metadata": {
    "deletable": false,
    "editable": false,
    "nbgrader": {
     "cell_type": "code",
     "checksum": "1fa9eb08cfe34ada242a682afcd752db",
     "grade": true,
     "grade_id": "cell-d291ec9d90db8b58",
     "locked": true,
     "points": 1,
     "schema_version": 3,
     "solution": false
    }
   },
   "outputs": [
    {
     "data": {
      "text/plain": [
       "'Success'"
      ]
     },
     "execution_count": 11,
     "metadata": {},
     "output_type": "execute_result"
    }
   ],
   "source": [
    "# run this cell to test your answer to the question above\n",
    "t.test_2_4(race_times_women)"
   ]
  },
  {
   "cell_type": "markdown",
   "metadata": {
    "deletable": false,
    "editable": false,
    "nbgrader": {
     "cell_type": "markdown",
     "checksum": "3f91ad919c926cf5ad4de24feeae8fb8",
     "grade": false,
     "grade_id": "cell-188153dcf97bb1df",
     "locked": true,
     "schema_version": 3,
     "solution": false
    }
   },
   "source": [
    "### Question 2.5 - create a plot to visualize this modified data\n",
    "\n",
    "{points: 1}\n",
    "\n",
    "Fill in the `... ` in the lines of code given below to create a scatterplot with the `bmi` on the x axis and `km5_time_minutes` on the y axis to create a visualization that we can use to start exploring whether there is a relationship between 5 km race time and body mass index in women runners. "
   ]
  },
  {
   "cell_type": "code",
   "execution_count": 12,
   "metadata": {
    "deletable": false,
    "nbgrader": {
     "cell_type": "code",
     "checksum": "b85a538e0f0757683e0ebbff2caa1279",
     "grade": false,
     "grade_id": "cell-99d22a23ee454f4a",
     "locked": false,
     "schema_version": 3,
     "solution": true,
     "task": false
    }
   },
   "outputs": [
    {
     "data": {
      "text/html": [
       "\n",
       "<div id=\"altair-viz-178bdb95f4de4837b601dac991da0e1c\"></div>\n",
       "<script type=\"text/javascript\">\n",
       "  (function(spec, embedOpt){\n",
       "    const outputDiv = document.getElementById(\"altair-viz-178bdb95f4de4837b601dac991da0e1c\");\n",
       "    const paths = {\n",
       "      \"vega\": \"https://cdn.jsdelivr.net/npm//vega@5?noext\",\n",
       "      \"vega-lib\": \"https://cdn.jsdelivr.net/npm//vega-lib?noext\",\n",
       "      \"vega-lite\": \"https://cdn.jsdelivr.net/npm//vega-lite@4.0.2?noext\",\n",
       "      \"vega-embed\": \"https://cdn.jsdelivr.net/npm//vega-embed@6?noext\",\n",
       "    };\n",
       "\n",
       "    function loadScript(lib) {\n",
       "      return new Promise(function(resolve, reject) {\n",
       "        var s = document.createElement('script');\n",
       "        s.src = paths[lib];\n",
       "        s.async = true;\n",
       "        s.onload = () => resolve(paths[lib]);\n",
       "        s.onerror = () => reject(`Error loading script: ${paths[lib]}`);\n",
       "        document.getElementsByTagName(\"head\")[0].appendChild(s);\n",
       "      });\n",
       "    }\n",
       "\n",
       "    function showError(err) {\n",
       "      outputDiv.innerHTML = `<div class=\"error\" style=\"color:red;\">${err}</div>`;\n",
       "      throw err;\n",
       "    }\n",
       "\n",
       "    function displayChart(vegaEmbed) {\n",
       "      vegaEmbed(outputDiv, spec, embedOpt)\n",
       "        .catch(err => showError(`Javascript Error: ${err.message}<br>This usually means there's a typo in your chart specification. See the javascript console for the full traceback.`));\n",
       "    }\n",
       "\n",
       "    if(typeof define === \"function\" && define.amd) {\n",
       "      requirejs.config({paths});\n",
       "      require([\"vega-embed\"], displayChart, err => showError(`Error loading script: ${err.message}`));\n",
       "    } else if (typeof vegaEmbed === \"function\") {\n",
       "      displayChart(vegaEmbed);\n",
       "    } else {\n",
       "      loadScript(\"vega\")\n",
       "        .then(() => loadScript(\"vega-lite\"))\n",
       "        .then(() => loadScript(\"vega-embed\"))\n",
       "        .catch(showError)\n",
       "        .then(() => displayChart(vegaEmbed));\n",
       "    }\n",
       "  })({\"config\": {\"view\": {\"continuousWidth\": 400, \"continuousHeight\": 300}, \"axis\": {\"labelFontSize\": 12, \"titleFontSize\": 14}}, \"data\": {\"name\": \"data-307483bcbf0a4edc8145639e1036d414\"}, \"mark\": {\"type\": \"circle\", \"opacity\": 0.3, \"size\": 60}, \"encoding\": {\"x\": {\"type\": \"quantitative\", \"field\": \"bmi\", \"title\": \"bmi\"}, \"y\": {\"type\": \"quantitative\", \"field\": \"km5_time_minutes\", \"title\": \"km5_time_minutes\"}}, \"$schema\": \"https://vega.github.io/schema/vega-lite/v4.0.2.json\", \"datasets\": {\"data-307483bcbf0a4edc8145639e1036d414\": [{\"bmi\": 42.08754348754879, \"km5_time_seconds\": 3240.0, \"km5_time_minutes\": 54.0}, {\"bmi\": 25.408615112304698, \"km5_time_seconds\": 2115.0, \"km5_time_minutes\": 35.25}, {\"bmi\": 20.8698558807373, \"km5_time_seconds\": 1690.0, \"km5_time_minutes\": 28.166666666666668}, {\"bmi\": 23.5825710296631, \"km5_time_seconds\": 1603.0, \"km5_time_minutes\": 26.716666666666665}, {\"bmi\": 20.035062789917, \"km5_time_seconds\": 1457.0, \"km5_time_minutes\": 24.283333333333335}, {\"bmi\": 19.6602687835693, \"km5_time_seconds\": 1753.0, \"km5_time_minutes\": 29.216666666666665}, {\"bmi\": 29.217798233032198, \"km5_time_seconds\": 1572.0, \"km5_time_minutes\": 26.2}, {\"bmi\": 22.377622604370103, \"km5_time_seconds\": 1558.0, \"km5_time_minutes\": 25.966666666666665}, {\"bmi\": 30.0525932312012, \"km5_time_seconds\": 2575.0, \"km5_time_minutes\": 42.916666666666664}, {\"bmi\": 19.6234531402588, \"km5_time_seconds\": 1240.0, \"km5_time_minutes\": 20.666666666666668}, {\"bmi\": 24.3252830505371, \"km5_time_seconds\": 2012.0, \"km5_time_minutes\": 33.53333333333333}, {\"bmi\": 21.757640838623, \"km5_time_seconds\": 1323.0, \"km5_time_minutes\": 22.05}, {\"bmi\": 26.633522033691396, \"km5_time_seconds\": 1955.0, \"km5_time_minutes\": 32.583333333333336}, {\"bmi\": 23.374238967895497, \"km5_time_seconds\": 1568.0, \"km5_time_minutes\": 26.133333333333333}, {\"bmi\": 27.3800621032715, \"km5_time_seconds\": 1943.0, \"km5_time_minutes\": 32.38333333333333}, {\"bmi\": 25.2525253295898, \"km5_time_seconds\": 1582.0, \"km5_time_minutes\": 26.366666666666667}, {\"bmi\": 25.6533584594727, \"km5_time_seconds\": 1872.0, \"km5_time_minutes\": 31.2}, {\"bmi\": 26.9886360168457, \"km5_time_seconds\": 1892.0, \"km5_time_minutes\": 31.533333333333335}, {\"bmi\": 20.7741470336914, \"km5_time_seconds\": 1142.0, \"km5_time_minutes\": 19.033333333333335}, {\"bmi\": 24.0989780426025, \"km5_time_seconds\": 1448.0, \"km5_time_minutes\": 24.133333333333333}, {\"bmi\": 20.9132442474365, \"km5_time_seconds\": 1277.0, \"km5_time_minutes\": 21.283333333333335}, {\"bmi\": 22.913442611694304, \"km5_time_seconds\": 1378.0, \"km5_time_minutes\": 22.966666666666665}, {\"bmi\": 20.9132442474365, \"km5_time_seconds\": 1163.0, \"km5_time_minutes\": 19.383333333333333}, {\"bmi\": 23.2383003234863, \"km5_time_seconds\": 1567.0, \"km5_time_minutes\": 26.116666666666667}, {\"bmi\": 21.622116088867198, \"km5_time_seconds\": 1380.0, \"km5_time_minutes\": 23.0}, {\"bmi\": 21.8716468811035, \"km5_time_seconds\": 1708.0, \"km5_time_minutes\": 28.466666666666665}, {\"bmi\": 22.681707382202102, \"km5_time_seconds\": 1620.0, \"km5_time_minutes\": 27.0}, {\"bmi\": 24.959653854370103, \"km5_time_seconds\": 1478.0, \"km5_time_minutes\": 24.633333333333333}, {\"bmi\": 18.3238258361816, \"km5_time_seconds\": 1680.0, \"km5_time_minutes\": 28.0}, {\"bmi\": 19.9275016784668, \"km5_time_seconds\": 1105.0, \"km5_time_minutes\": 18.416666666666668}, {\"bmi\": 24.2424240112305, \"km5_time_seconds\": 1116.0, \"km5_time_minutes\": 18.6}, {\"bmi\": 22.19460105896, \"km5_time_seconds\": 1401.0, \"km5_time_minutes\": 23.35}, {\"bmi\": 24.7371654510498, \"km5_time_seconds\": 2100.0, \"km5_time_minutes\": 35.0}, {\"bmi\": 19.865671157836896, \"km5_time_seconds\": 1026.0, \"km5_time_minutes\": 17.1}, {\"bmi\": 23.0823860168457, \"km5_time_seconds\": 1315.0, \"km5_time_minutes\": 21.916666666666668}, {\"bmi\": 22.843721389770497, \"km5_time_seconds\": 1457.0, \"km5_time_minutes\": 24.283333333333335}, {\"bmi\": 24.8579540252686, \"km5_time_seconds\": 1434.0, \"km5_time_minutes\": 23.9}, {\"bmi\": 20.103689193725604, \"km5_time_seconds\": 1530.0, \"km5_time_minutes\": 25.5}, {\"bmi\": 26.6666660308838, \"km5_time_seconds\": 1652.0, \"km5_time_minutes\": 27.533333333333335}, {\"bmi\": 18.631402969360398, \"km5_time_seconds\": 1210.0, \"km5_time_minutes\": 20.166666666666668}, {\"bmi\": 20.453317642211896, \"km5_time_seconds\": 1337.0, \"km5_time_minutes\": 22.283333333333335}, {\"bmi\": 25.9688739776611, \"km5_time_seconds\": 1692.0, \"km5_time_minutes\": 28.2}, {\"bmi\": 26.633522033691396, \"km5_time_seconds\": 1865.0, \"km5_time_minutes\": 31.083333333333332}, {\"bmi\": 21.2330913543701, \"km5_time_seconds\": 1383.0, \"km5_time_minutes\": 23.05}, {\"bmi\": 27.1974182128906, \"km5_time_seconds\": 1660.0, \"km5_time_minutes\": 27.666666666666668}, {\"bmi\": 24.5955924987793, \"km5_time_seconds\": 1769.0, \"km5_time_minutes\": 29.483333333333334}, {\"bmi\": 22.805912017822298, \"km5_time_seconds\": 1440.0, \"km5_time_minutes\": 24.0}, {\"bmi\": 22.377622604370103, \"km5_time_seconds\": 1462.0, \"km5_time_minutes\": 24.366666666666667}, {\"bmi\": 20.8995742797852, \"km5_time_seconds\": 1498.0, \"km5_time_minutes\": 24.966666666666665}, {\"bmi\": 21.757640838623, \"km5_time_seconds\": 1354.0, \"km5_time_minutes\": 22.566666666666666}, {\"bmi\": 21.7049369812012, \"km5_time_seconds\": 1614.0, \"km5_time_minutes\": 26.9}, {\"bmi\": 26.9886360168457, \"km5_time_seconds\": 1794.0, \"km5_time_minutes\": 29.9}, {\"bmi\": 23.2383003234863, \"km5_time_seconds\": 1437.0, \"km5_time_minutes\": 23.95}, {\"bmi\": 31.25, \"km5_time_seconds\": 1737.0, \"km5_time_minutes\": 28.95}, {\"bmi\": 26.6810111999512, \"km5_time_seconds\": 2040.0, \"km5_time_minutes\": 34.0}, {\"bmi\": 23.2383003234863, \"km5_time_seconds\": 1592.0, \"km5_time_minutes\": 26.533333333333335}, {\"bmi\": 20.8116550445557, \"km5_time_seconds\": 1045.0, \"km5_time_minutes\": 17.416666666666668}, {\"bmi\": 22.2055263519287, \"km5_time_seconds\": 1492.0, \"km5_time_minutes\": 24.866666666666667}, {\"bmi\": 25.1651439666748, \"km5_time_seconds\": 1463.0, \"km5_time_minutes\": 24.383333333333333}, {\"bmi\": 30.1846580505371, \"km5_time_seconds\": 1809.0, \"km5_time_minutes\": 30.15}, {\"bmi\": 23.4541072845459, \"km5_time_seconds\": 1650.0, \"km5_time_minutes\": 27.5}, {\"bmi\": 20.3689785003662, \"km5_time_seconds\": 1468.0, \"km5_time_minutes\": 24.466666666666665}, {\"bmi\": 23.0403213500977, \"km5_time_seconds\": 1335.0, \"km5_time_minutes\": 22.25}, {\"bmi\": 24.0989780426025, \"km5_time_seconds\": 1870.0, \"km5_time_minutes\": 31.166666666666668}, {\"bmi\": 22.263450622558604, \"km5_time_seconds\": 2134.0, \"km5_time_minutes\": 35.56666666666667}, {\"bmi\": 25.7942733764648, \"km5_time_seconds\": 1670.0, \"km5_time_minutes\": 27.833333333333332}, {\"bmi\": 31.845079421997102, \"km5_time_seconds\": 1799.0, \"km5_time_minutes\": 29.983333333333334}, {\"bmi\": 24.8579540252686, \"km5_time_seconds\": 1361.0, \"km5_time_minutes\": 22.683333333333334}, {\"bmi\": 23.4604110717773, \"km5_time_seconds\": 1589.0, \"km5_time_minutes\": 26.483333333333334}, {\"bmi\": 21.0615863800049, \"km5_time_seconds\": 1498.0, \"km5_time_minutes\": 24.966666666666665}, {\"bmi\": 22.149662017822298, \"km5_time_seconds\": 1980.0, \"km5_time_minutes\": 33.0}, {\"bmi\": 25.6533584594727, \"km5_time_seconds\": 2292.0, \"km5_time_minutes\": 38.2}, {\"bmi\": 24.8579540252686, \"km5_time_seconds\": 1585.0, \"km5_time_minutes\": 26.416666666666668}, {\"bmi\": 23.0823860168457, \"km5_time_seconds\": 1130.0, \"km5_time_minutes\": 18.833333333333332}, {\"bmi\": 20.7028980255127, \"km5_time_seconds\": 1213.0, \"km5_time_minutes\": 20.216666666666665}, {\"bmi\": 20.0537414550781, \"km5_time_seconds\": 1680.0, \"km5_time_minutes\": 28.0}, {\"bmi\": 23.804801940918, \"km5_time_seconds\": 2400.0, \"km5_time_minutes\": 40.0}, {\"bmi\": 21.6992244720459, \"km5_time_seconds\": 1067.0, \"km5_time_minutes\": 17.783333333333335}, {\"bmi\": 22.19460105896, \"km5_time_seconds\": 1813.0, \"km5_time_minutes\": 30.216666666666665}, {\"bmi\": 21.871610641479503, \"km5_time_seconds\": 1525.0, \"km5_time_minutes\": 25.416666666666668}, {\"bmi\": 23.0055656433105, \"km5_time_seconds\": 1828.0, \"km5_time_minutes\": 30.466666666666665}, {\"bmi\": 24.959653854370103, \"km5_time_seconds\": 1530.0, \"km5_time_minutes\": 25.5}, {\"bmi\": 22.7036247253418, \"km5_time_seconds\": 1749.0, \"km5_time_minutes\": 29.15}, {\"bmi\": 23.0055656433105, \"km5_time_seconds\": 1540.0, \"km5_time_minutes\": 25.666666666666668}, {\"bmi\": 25.921951293945302, \"km5_time_seconds\": 1648.0, \"km5_time_minutes\": 27.466666666666665}, {\"bmi\": 26.633522033691396, \"km5_time_seconds\": 2426.0, \"km5_time_minutes\": 40.43333333333333}, {\"bmi\": 25.6533584594727, \"km5_time_seconds\": 1740.0, \"km5_time_minutes\": 29.0}, {\"bmi\": 23.5923233032227, \"km5_time_seconds\": 1680.0, \"km5_time_minutes\": 28.0}, {\"bmi\": 23.677225112915, \"km5_time_seconds\": 1295.0, \"km5_time_minutes\": 21.583333333333332}, {\"bmi\": 19.921438217163104, \"km5_time_seconds\": 1634.0, \"km5_time_minutes\": 27.233333333333334}, {\"bmi\": 21.2330913543701, \"km5_time_seconds\": 1530.0, \"km5_time_minutes\": 25.5}, {\"bmi\": 24.209032058715803, \"km5_time_seconds\": 1308.0, \"km5_time_minutes\": 21.8}, {\"bmi\": 21.3858814239502, \"km5_time_seconds\": 1303.0, \"km5_time_minutes\": 21.716666666666665}, {\"bmi\": 26.6810111999512, \"km5_time_seconds\": 2127.0, \"km5_time_minutes\": 35.45}, {\"bmi\": 21.438877105712898, \"km5_time_seconds\": 1385.0, \"km5_time_minutes\": 23.083333333333332}, {\"bmi\": 20.7507171630859, \"km5_time_seconds\": 1685.0, \"km5_time_minutes\": 28.083333333333332}, {\"bmi\": 20.382287979126, \"km5_time_seconds\": 1460.0, \"km5_time_minutes\": 24.333333333333332}, {\"bmi\": 24.431360244751, \"km5_time_seconds\": 1676.0, \"km5_time_minutes\": 27.933333333333334}, {\"bmi\": 27.996223449707, \"km5_time_seconds\": 2016.0, \"km5_time_minutes\": 33.6}, {\"bmi\": 27.3631248474121, \"km5_time_seconds\": 1956.0, \"km5_time_minutes\": 32.6}, {\"bmi\": 21.3448085784912, \"km5_time_seconds\": 1578.0, \"km5_time_minutes\": 26.3}, {\"bmi\": 20.4466800689697, \"km5_time_seconds\": 1317.0, \"km5_time_minutes\": 21.95}, {\"bmi\": 23.977806091308604, \"km5_time_seconds\": 1647.0, \"km5_time_minutes\": 27.45}, {\"bmi\": 21.5684432983398, \"km5_time_seconds\": 1351.0, \"km5_time_minutes\": 22.516666666666666}, {\"bmi\": 26.713415145874, \"km5_time_seconds\": 1638.0, \"km5_time_minutes\": 27.3}, {\"bmi\": 23.8209743499756, \"km5_time_seconds\": 1755.0, \"km5_time_minutes\": 29.25}, {\"bmi\": 23.374238967895497, \"km5_time_seconds\": 1549.0, \"km5_time_minutes\": 25.816666666666666}, {\"bmi\": 19.795589447021502, \"km5_time_seconds\": 1244.0, \"km5_time_minutes\": 20.733333333333334}, {\"bmi\": 21.3792457580566, \"km5_time_seconds\": 1420.0, \"km5_time_minutes\": 23.666666666666668}, {\"bmi\": 32.0560989379883, \"km5_time_seconds\": 2277.0, \"km5_time_minutes\": 37.95}, {\"bmi\": 21.704650878906197, \"km5_time_seconds\": 1220.0, \"km5_time_minutes\": 20.333333333333332}, {\"bmi\": 20.8698558807373, \"km5_time_seconds\": 1185.0, \"km5_time_minutes\": 19.75}, {\"bmi\": 21.3858814239502, \"km5_time_seconds\": 1454.0, \"km5_time_minutes\": 24.233333333333334}, {\"bmi\": 26.109167098999, \"km5_time_seconds\": 1754.0, \"km5_time_minutes\": 29.233333333333334}, {\"bmi\": 22.0385684967041, \"km5_time_seconds\": 1327.0, \"km5_time_minutes\": 22.116666666666667}, {\"bmi\": 28.817983627319304, \"km5_time_seconds\": 1497.0, \"km5_time_minutes\": 24.95}, {\"bmi\": 20.737562179565398, \"km5_time_seconds\": 1360.0, \"km5_time_minutes\": 22.666666666666668}, {\"bmi\": 26.2626266479492, \"km5_time_seconds\": 1513.0, \"km5_time_minutes\": 25.216666666666665}, {\"bmi\": 22.8940277099609, \"km5_time_seconds\": 1304.0, \"km5_time_minutes\": 21.733333333333334}, {\"bmi\": 25.745737075805696, \"km5_time_seconds\": 1745.0, \"km5_time_minutes\": 29.083333333333332}, {\"bmi\": 21.1292610168457, \"km5_time_seconds\": 2336.0, \"km5_time_minutes\": 38.93333333333333}, {\"bmi\": 20.24147605896, \"km5_time_seconds\": 1568.0, \"km5_time_minutes\": 26.133333333333333}, {\"bmi\": 19.4414653778076, \"km5_time_seconds\": 1710.0, \"km5_time_minutes\": 28.5}, {\"bmi\": 29.7794494628906, \"km5_time_seconds\": 1870.0, \"km5_time_minutes\": 31.166666666666668}, {\"bmi\": 27.1192646026611, \"km5_time_seconds\": 1620.0, \"km5_time_minutes\": 27.0}, {\"bmi\": 35.0014228820801, \"km5_time_seconds\": 3400.0, \"km5_time_minutes\": 56.666666666666664}, {\"bmi\": 20.035062789917, \"km5_time_seconds\": 1285.0, \"km5_time_minutes\": 21.416666666666668}, {\"bmi\": 20.6562671661377, \"km5_time_seconds\": 1338.0, \"km5_time_minutes\": 22.3}, {\"bmi\": 21.6913948059082, \"km5_time_seconds\": 1336.0, \"km5_time_minutes\": 22.266666666666666}, {\"bmi\": 23.005733489990202, \"km5_time_seconds\": 1296.0, \"km5_time_minutes\": 21.6}, {\"bmi\": 23.7476806640625, \"km5_time_seconds\": 2298.0, \"km5_time_minutes\": 38.3}, {\"bmi\": 20.244066238403303, \"km5_time_seconds\": 1329.0, \"km5_time_minutes\": 22.15}, {\"bmi\": 27.2180500030518, \"km5_time_seconds\": 2319.0, \"km5_time_minutes\": 38.65}, {\"bmi\": 21.8716468811035, \"km5_time_seconds\": 1658.0, \"km5_time_minutes\": 27.633333333333333}, {\"bmi\": 24.7371654510498, \"km5_time_seconds\": 2029.0, \"km5_time_minutes\": 33.81666666666667}, {\"bmi\": 21.622116088867198, \"km5_time_seconds\": 1180.0, \"km5_time_minutes\": 19.666666666666668}, {\"bmi\": 20.035062789917, \"km5_time_seconds\": 1175.0, \"km5_time_minutes\": 19.583333333333332}, {\"bmi\": 30.1846580505371, \"km5_time_seconds\": 1837.0, \"km5_time_minutes\": 30.616666666666667}, {\"bmi\": 20.717794418335, \"km5_time_seconds\": 1620.0, \"km5_time_minutes\": 27.0}, {\"bmi\": 19.6602687835693, \"km5_time_seconds\": 1444.0, \"km5_time_minutes\": 24.066666666666666}, {\"bmi\": 25.921951293945302, \"km5_time_seconds\": 1734.0, \"km5_time_minutes\": 28.9}, {\"bmi\": 25.017713546752898, \"km5_time_seconds\": 1740.0, \"km5_time_minutes\": 29.0}, {\"bmi\": 20.5755500793457, \"km5_time_seconds\": 1194.0, \"km5_time_minutes\": 19.9}, {\"bmi\": 21.8716468811035, \"km5_time_seconds\": 1574.0, \"km5_time_minutes\": 26.233333333333334}, {\"bmi\": 25.043827056884798, \"km5_time_seconds\": 2106.0, \"km5_time_minutes\": 35.1}, {\"bmi\": 21.1292610168457, \"km5_time_seconds\": 1788.0, \"km5_time_minutes\": 29.8}, {\"bmi\": 20.1562099456787, \"km5_time_seconds\": 1150.0, \"km5_time_minutes\": 19.166666666666668}, {\"bmi\": 18.9126262664795, \"km5_time_seconds\": 1188.0, \"km5_time_minutes\": 19.8}, {\"bmi\": 20.2515239715576, \"km5_time_seconds\": 1710.0, \"km5_time_minutes\": 28.5}, {\"bmi\": 24.5028400421143, \"km5_time_seconds\": 1370.0, \"km5_time_minutes\": 22.833333333333332}, {\"bmi\": 22.3576831817627, \"km5_time_seconds\": 1751.0, \"km5_time_minutes\": 29.183333333333334}, {\"bmi\": 21.8394889831543, \"km5_time_seconds\": 1503.0, \"km5_time_minutes\": 25.05}, {\"bmi\": 24.2171993255615, \"km5_time_seconds\": 1698.0, \"km5_time_minutes\": 28.3}, {\"bmi\": 47.18464660644529, \"km5_time_seconds\": 1801.0, \"km5_time_minutes\": 30.016666666666666}, {\"bmi\": 25.043827056884798, \"km5_time_seconds\": 1649.0, \"km5_time_minutes\": 27.483333333333334}, {\"bmi\": 23.845006942749, \"km5_time_seconds\": 1980.0, \"km5_time_minutes\": 33.0}, {\"bmi\": 24.526159286499, \"km5_time_seconds\": 1371.0, \"km5_time_minutes\": 22.85}, {\"bmi\": 24.536014556884798, \"km5_time_seconds\": 1695.0, \"km5_time_minutes\": 28.25}, {\"bmi\": 20.6562671661377, \"km5_time_seconds\": 1240.0, \"km5_time_minutes\": 20.666666666666668}, {\"bmi\": 23.970169067382802, \"km5_time_seconds\": 1666.0, \"km5_time_minutes\": 27.766666666666666}, {\"bmi\": 22.727272033691396, \"km5_time_seconds\": 1560.0, \"km5_time_minutes\": 26.0}, {\"bmi\": 21.389234542846697, \"km5_time_seconds\": 1162.0, \"km5_time_minutes\": 19.366666666666667}, {\"bmi\": 34.3923683166504, \"km5_time_seconds\": 1327.0, \"km5_time_minutes\": 22.116666666666667}, {\"bmi\": 21.304147720336896, \"km5_time_seconds\": 1583.0, \"km5_time_minutes\": 26.383333333333333}, {\"bmi\": 20.132116317749, \"km5_time_seconds\": 1234.0, \"km5_time_minutes\": 20.566666666666666}, {\"bmi\": 31.456430435180696, \"km5_time_seconds\": 1920.0, \"km5_time_minutes\": 32.0}, {\"bmi\": 20.4466800689697, \"km5_time_seconds\": 1534.0, \"km5_time_minutes\": 25.566666666666666}, {\"bmi\": 24.3706893920898, \"km5_time_seconds\": 2165.0, \"km5_time_minutes\": 36.083333333333336}, {\"bmi\": 25.9740257263184, \"km5_time_seconds\": 1812.0, \"km5_time_minutes\": 30.2}, {\"bmi\": 20.244066238403303, \"km5_time_seconds\": 1548.0, \"km5_time_minutes\": 25.8}, {\"bmi\": 21.4995975494385, \"km5_time_seconds\": 1426.0, \"km5_time_minutes\": 23.766666666666666}, {\"bmi\": 19.1761360168457, \"km5_time_seconds\": 1350.0, \"km5_time_minutes\": 22.5}, {\"bmi\": 21.438877105712898, \"km5_time_seconds\": 1361.0, \"km5_time_minutes\": 22.683333333333334}, {\"bmi\": 21.172674179077102, \"km5_time_seconds\": 1500.0, \"km5_time_minutes\": 25.0}, {\"bmi\": 22.794900894165, \"km5_time_seconds\": 1454.0, \"km5_time_minutes\": 24.233333333333334}, {\"bmi\": 20.419033050537102, \"km5_time_seconds\": 1320.0, \"km5_time_minutes\": 22.0}, {\"bmi\": 24.209032058715803, \"km5_time_seconds\": 1572.0, \"km5_time_minutes\": 26.2}, {\"bmi\": 24.850582122802702, \"km5_time_seconds\": 1500.0, \"km5_time_minutes\": 25.0}, {\"bmi\": 23.2712593078613, \"km5_time_seconds\": 1380.0, \"km5_time_minutes\": 23.0}, {\"bmi\": 21.3858814239502, \"km5_time_seconds\": 1143.0, \"km5_time_minutes\": 19.05}, {\"bmi\": 22.263450622558604, \"km5_time_seconds\": 1400.0, \"km5_time_minutes\": 23.333333333333332}, {\"bmi\": 21.0615863800049, \"km5_time_seconds\": 1037.0, \"km5_time_minutes\": 17.283333333333335}, {\"bmi\": 29.1621971130371, \"km5_time_seconds\": 2054.0, \"km5_time_minutes\": 34.233333333333334}, {\"bmi\": 21.890499114990202, \"km5_time_seconds\": 1482.0, \"km5_time_minutes\": 24.7}, {\"bmi\": 27.541688919067397, \"km5_time_seconds\": 1937.0, \"km5_time_minutes\": 32.28333333333333}, {\"bmi\": 31.072443008422898, \"km5_time_seconds\": 2163.0, \"km5_time_minutes\": 36.05}, {\"bmi\": 22.2038230895996, \"km5_time_seconds\": 1330.0, \"km5_time_minutes\": 22.166666666666668}, {\"bmi\": 25.541578292846697, \"km5_time_seconds\": 1620.0, \"km5_time_minutes\": 27.0}, {\"bmi\": 24.551067352294897, \"km5_time_seconds\": 1880.0, \"km5_time_minutes\": 31.333333333333332}, {\"bmi\": 19.865671157836896, \"km5_time_seconds\": 1625.0, \"km5_time_minutes\": 27.083333333333332}, {\"bmi\": 24.2424240112305, \"km5_time_seconds\": 2709.0, \"km5_time_minutes\": 45.15}, {\"bmi\": 23.005733489990202, \"km5_time_seconds\": 1274.0, \"km5_time_minutes\": 21.233333333333334}, {\"bmi\": 25.921951293945302, \"km5_time_seconds\": 2160.0, \"km5_time_minutes\": 36.0}, {\"bmi\": 25.921951293945302, \"km5_time_seconds\": 1894.0, \"km5_time_minutes\": 31.566666666666666}, {\"bmi\": 22.377622604370103, \"km5_time_seconds\": 1773.0, \"km5_time_minutes\": 29.55}, {\"bmi\": 24.209032058715803, \"km5_time_seconds\": 1680.0, \"km5_time_minutes\": 28.0}, {\"bmi\": 21.516944885253896, \"km5_time_seconds\": 1303.0, \"km5_time_minutes\": 21.716666666666665}, {\"bmi\": 23.7476806640625, \"km5_time_seconds\": 1793.0, \"km5_time_minutes\": 29.883333333333333}, {\"bmi\": 20.8698558807373, \"km5_time_seconds\": 1642.0, \"km5_time_minutes\": 27.366666666666667}, {\"bmi\": 30.2714996337891, \"km5_time_seconds\": 2083.0, \"km5_time_minutes\": 34.71666666666667}, {\"bmi\": 22.681707382202102, \"km5_time_seconds\": 1764.0, \"km5_time_minutes\": 29.4}, {\"bmi\": 22.5497150421143, \"km5_time_seconds\": 1400.0, \"km5_time_minutes\": 23.333333333333332}, {\"bmi\": 28.9471225738525, \"km5_time_seconds\": 2063.0, \"km5_time_minutes\": 34.38333333333333}, {\"bmi\": 20.4466800689697, \"km5_time_seconds\": 1530.0, \"km5_time_minutes\": 25.5}, {\"bmi\": 22.681707382202102, \"km5_time_seconds\": 1794.0, \"km5_time_minutes\": 29.9}, {\"bmi\": 20.9276123046875, \"km5_time_seconds\": 1590.0, \"km5_time_minutes\": 26.5}, {\"bmi\": 22.681707382202102, \"km5_time_seconds\": 1650.0, \"km5_time_minutes\": 27.5}, {\"bmi\": 21.861215591430696, \"km5_time_seconds\": 1569.0, \"km5_time_minutes\": 26.15}, {\"bmi\": 26.8345031738281, \"km5_time_seconds\": 2354.0, \"km5_time_minutes\": 39.233333333333334}, {\"bmi\": 19.53125, \"km5_time_seconds\": 1410.0, \"km5_time_minutes\": 23.5}, {\"bmi\": 23.970169067382802, \"km5_time_seconds\": 1393.0, \"km5_time_minutes\": 23.216666666666665}, {\"bmi\": 20.7741470336914, \"km5_time_seconds\": 1740.0, \"km5_time_minutes\": 29.0}, {\"bmi\": 22.805912017822298, \"km5_time_seconds\": 1680.0, \"km5_time_minutes\": 28.0}, {\"bmi\": 20.2515239715576, \"km5_time_seconds\": 1560.0, \"km5_time_minutes\": 26.0}, {\"bmi\": 25.435916900634798, \"km5_time_seconds\": 1623.0, \"km5_time_minutes\": 27.05}, {\"bmi\": 25.953987121582, \"km5_time_seconds\": 1455.0, \"km5_time_minutes\": 24.25}, {\"bmi\": 25.0505046844482, \"km5_time_seconds\": 1485.0, \"km5_time_minutes\": 24.75}, {\"bmi\": 21.306818008422898, \"km5_time_seconds\": 1323.0, \"km5_time_minutes\": 22.05}, {\"bmi\": 22.7064037322998, \"km5_time_seconds\": 1860.0, \"km5_time_minutes\": 31.0}, {\"bmi\": 25.377746582031197, \"km5_time_seconds\": 1398.0, \"km5_time_minutes\": 23.3}, {\"bmi\": 21.484375, \"km5_time_seconds\": 1984.0, \"km5_time_minutes\": 33.06666666666667}, {\"bmi\": 17.2135543823242, \"km5_time_seconds\": 1382.0, \"km5_time_minutes\": 23.033333333333335}, {\"bmi\": 20.779220581054698, \"km5_time_seconds\": 1540.0, \"km5_time_minutes\": 25.666666666666668}, {\"bmi\": 20.6562671661377, \"km5_time_seconds\": 1169.0, \"km5_time_minutes\": 19.483333333333334}, {\"bmi\": 20.035062789917, \"km5_time_seconds\": 1407.0, \"km5_time_minutes\": 23.45}, {\"bmi\": 18.2463703155518, \"km5_time_seconds\": 1104.0, \"km5_time_minutes\": 18.4}, {\"bmi\": 22.9047832489014, \"km5_time_seconds\": 1664.0, \"km5_time_minutes\": 27.733333333333334}, {\"bmi\": 30.4903373718262, \"km5_time_seconds\": 1986.0, \"km5_time_minutes\": 33.1}, {\"bmi\": 22.019502639770497, \"km5_time_seconds\": 1620.0, \"km5_time_minutes\": 27.0}, {\"bmi\": 25.043827056884798, \"km5_time_seconds\": 1657.0, \"km5_time_minutes\": 27.616666666666667}, {\"bmi\": 22.3576831817627, \"km5_time_seconds\": 1144.0, \"km5_time_minutes\": 19.066666666666666}, {\"bmi\": 26.109167098999, \"km5_time_seconds\": 1862.0, \"km5_time_minutes\": 31.033333333333335}, {\"bmi\": 23.066165924072298, \"km5_time_seconds\": 1778.0, \"km5_time_minutes\": 29.633333333333333}, {\"bmi\": 20.035062789917, \"km5_time_seconds\": 1591.0, \"km5_time_minutes\": 26.516666666666666}, {\"bmi\": 21.6407279968262, \"km5_time_seconds\": 1333.0, \"km5_time_minutes\": 22.216666666666665}, {\"bmi\": 27.4857387542725, \"km5_time_seconds\": 1680.0, \"km5_time_minutes\": 28.0}, {\"bmi\": 32.3614845275879, \"km5_time_seconds\": 2088.0, \"km5_time_minutes\": 34.8}, {\"bmi\": 24.823684692382802, \"km5_time_seconds\": 1789.0, \"km5_time_minutes\": 29.816666666666666}, {\"bmi\": 24.8579540252686, \"km5_time_seconds\": 1594.0, \"km5_time_minutes\": 26.566666666666666}, {\"bmi\": 31.456430435180696, \"km5_time_seconds\": 2244.0, \"km5_time_minutes\": 37.4}, {\"bmi\": 24.14772605896, \"km5_time_seconds\": 2010.0, \"km5_time_minutes\": 33.5}, {\"bmi\": 20.3268928527832, \"km5_time_seconds\": 1495.0, \"km5_time_minutes\": 24.916666666666668}, {\"bmi\": 22.019502639770497, \"km5_time_seconds\": 1312.0, \"km5_time_minutes\": 21.866666666666667}, {\"bmi\": 19.5341854095459, \"km5_time_seconds\": 1350.0, \"km5_time_minutes\": 22.5}, {\"bmi\": 24.0989780426025, \"km5_time_seconds\": 1848.0, \"km5_time_minutes\": 30.8}, {\"bmi\": 22.377622604370103, \"km5_time_seconds\": 1947.0, \"km5_time_minutes\": 32.45}, {\"bmi\": 20.202018737793, \"km5_time_seconds\": 1226.0, \"km5_time_minutes\": 20.433333333333334}, {\"bmi\": 20.2515239715576, \"km5_time_seconds\": 1490.0, \"km5_time_minutes\": 24.833333333333332}, {\"bmi\": 23.749605178832997, \"km5_time_seconds\": 1869.0, \"km5_time_minutes\": 31.15}, {\"bmi\": 22.5394439697266, \"km5_time_seconds\": 1590.0, \"km5_time_minutes\": 26.5}, {\"bmi\": 30.1010093688965, \"km5_time_seconds\": 1768.0, \"km5_time_minutes\": 29.466666666666665}, {\"bmi\": 23.0403213500977, \"km5_time_seconds\": 1590.0, \"km5_time_minutes\": 26.5}, {\"bmi\": 22.5497150421143, \"km5_time_seconds\": 1227.0, \"km5_time_minutes\": 20.45}, {\"bmi\": 23.4917678833008, \"km5_time_seconds\": 1360.0, \"km5_time_minutes\": 22.666666666666668}, {\"bmi\": 22.7036247253418, \"km5_time_seconds\": 1450.0, \"km5_time_minutes\": 24.166666666666668}, {\"bmi\": 23.970169067382802, \"km5_time_seconds\": 1740.0, \"km5_time_minutes\": 29.0}, {\"bmi\": 23.6496086120605, \"km5_time_seconds\": 1875.0, \"km5_time_minutes\": 31.25}, {\"bmi\": 21.516944885253896, \"km5_time_seconds\": 1879.0, \"km5_time_minutes\": 31.316666666666666}, {\"bmi\": 22.8282833099365, \"km5_time_seconds\": 1815.0, \"km5_time_minutes\": 30.25}, {\"bmi\": 21.516944885253896, \"km5_time_seconds\": 1171.0, \"km5_time_minutes\": 19.516666666666666}, {\"bmi\": 20.8926372528076, \"km5_time_seconds\": 1253.0, \"km5_time_minutes\": 20.883333333333333}, {\"bmi\": 35.3649864196777, \"km5_time_seconds\": 2700.0, \"km5_time_minutes\": 45.0}, {\"bmi\": 25.745737075805696, \"km5_time_seconds\": 1647.0, \"km5_time_minutes\": 27.45}, {\"bmi\": 29.2630443572998, \"km5_time_seconds\": 1680.0, \"km5_time_minutes\": 28.0}, {\"bmi\": 26.7466468811035, \"km5_time_seconds\": 1505.0, \"km5_time_minutes\": 25.083333333333332}, {\"bmi\": 26.7466468811035, \"km5_time_seconds\": 1505.0, \"km5_time_minutes\": 25.083333333333332}, {\"bmi\": 21.072401046752898, \"km5_time_seconds\": 1530.0, \"km5_time_minutes\": 25.5}, {\"bmi\": 23.970169067382802, \"km5_time_seconds\": 1740.0, \"km5_time_minutes\": 29.0}, {\"bmi\": 22.9047832489014, \"km5_time_seconds\": 1680.0, \"km5_time_minutes\": 28.0}, {\"bmi\": 23.4604110717773, \"km5_time_seconds\": 1440.0, \"km5_time_minutes\": 24.0}, {\"bmi\": 19.2980804443359, \"km5_time_seconds\": 1135.0, \"km5_time_minutes\": 18.916666666666668}, {\"bmi\": 23.218957901001, \"km5_time_seconds\": 1262.0, \"km5_time_minutes\": 21.033333333333335}, {\"bmi\": 26.2983665466309, \"km5_time_seconds\": 1604.0, \"km5_time_minutes\": 26.733333333333334}, {\"bmi\": 21.516944885253896, \"km5_time_seconds\": 1188.0, \"km5_time_minutes\": 19.8}, {\"bmi\": 21.306818008422898, \"km5_time_seconds\": 1721.0, \"km5_time_minutes\": 28.683333333333334}, {\"bmi\": 30.9844017028809, \"km5_time_seconds\": 2537.0, \"km5_time_minutes\": 42.28333333333333}, {\"bmi\": 33.367340087890604, \"km5_time_seconds\": 2146.0, \"km5_time_minutes\": 35.766666666666666}, {\"bmi\": 22.681707382202102, \"km5_time_seconds\": 1176.0, \"km5_time_minutes\": 19.6}, {\"bmi\": 24.615385055542003, \"km5_time_seconds\": 1622.0, \"km5_time_minutes\": 27.033333333333335}, {\"bmi\": 23.845006942749, \"km5_time_seconds\": 1565.0, \"km5_time_minutes\": 26.083333333333332}, {\"bmi\": 19.279182434082, \"km5_time_seconds\": 1183.0, \"km5_time_minutes\": 19.716666666666665}, {\"bmi\": 22.7036247253418, \"km5_time_seconds\": 1403.0, \"km5_time_minutes\": 23.383333333333333}, {\"bmi\": 20.3689785003662, \"km5_time_seconds\": 1380.0, \"km5_time_minutes\": 23.0}, {\"bmi\": 21.3858814239502, \"km5_time_seconds\": 1660.0, \"km5_time_minutes\": 27.666666666666668}, {\"bmi\": 25.247516632080103, \"km5_time_seconds\": 2115.0, \"km5_time_minutes\": 35.25}, {\"bmi\": 22.7218933105469, \"km5_time_seconds\": 1405.0, \"km5_time_minutes\": 23.416666666666668}, {\"bmi\": 21.0368156433105, \"km5_time_seconds\": 1370.0, \"km5_time_minutes\": 22.833333333333332}, {\"bmi\": 22.149662017822298, \"km5_time_seconds\": 1275.0, \"km5_time_minutes\": 21.25}, {\"bmi\": 21.3792457580566, \"km5_time_seconds\": 1267.0, \"km5_time_minutes\": 21.116666666666667}, {\"bmi\": 22.0385684967041, \"km5_time_seconds\": 1275.0, \"km5_time_minutes\": 21.25}, {\"bmi\": 20.419033050537102, \"km5_time_seconds\": 1287.0, \"km5_time_minutes\": 21.45}, {\"bmi\": 23.7547073364258, \"km5_time_seconds\": 1749.0, \"km5_time_minutes\": 29.15}, {\"bmi\": 21.2330913543701, \"km5_time_seconds\": 1860.0, \"km5_time_minutes\": 31.0}, {\"bmi\": 19.53125, \"km5_time_seconds\": 1665.0, \"km5_time_minutes\": 27.75}, {\"bmi\": 23.0823860168457, \"km5_time_seconds\": 1393.0, \"km5_time_minutes\": 23.216666666666665}, {\"bmi\": 23.8157939910889, \"km5_time_seconds\": 1387.0, \"km5_time_minutes\": 23.116666666666667}, {\"bmi\": 19.4872760772705, \"km5_time_seconds\": 1501.0, \"km5_time_minutes\": 25.016666666666666}, {\"bmi\": 21.072401046752898, \"km5_time_seconds\": 1320.0, \"km5_time_minutes\": 22.0}, {\"bmi\": 20.522686004638697, \"km5_time_seconds\": 1285.0, \"km5_time_minutes\": 21.416666666666668}, {\"bmi\": 18.8210220336914, \"km5_time_seconds\": 1297.0, \"km5_time_minutes\": 21.616666666666667}, {\"bmi\": 22.2055263519287, \"km5_time_seconds\": 1800.0, \"km5_time_minutes\": 30.0}, {\"bmi\": 21.0368156433105, \"km5_time_seconds\": 1223.0, \"km5_time_minutes\": 20.383333333333333}, {\"bmi\": 21.072401046752898, \"km5_time_seconds\": 1282.0, \"km5_time_minutes\": 21.366666666666667}, {\"bmi\": 28.3107891082764, \"km5_time_seconds\": 2193.0, \"km5_time_minutes\": 36.55}, {\"bmi\": 22.377622604370103, \"km5_time_seconds\": 1146.0, \"km5_time_minutes\": 19.1}, {\"bmi\": 21.704650878906197, \"km5_time_seconds\": 1360.0, \"km5_time_minutes\": 22.666666666666668}, {\"bmi\": 33.3806800842285, \"km5_time_seconds\": 2167.0, \"km5_time_minutes\": 36.11666666666667}, {\"bmi\": 19.7011451721191, \"km5_time_seconds\": 1278.0, \"km5_time_minutes\": 21.3}, {\"bmi\": 15.4283857345581, \"km5_time_seconds\": 1009.0, \"km5_time_minutes\": 16.816666666666666}, {\"bmi\": 25.745737075805696, \"km5_time_seconds\": 2025.0, \"km5_time_minutes\": 33.75}, {\"bmi\": 23.2383003234863, \"km5_time_seconds\": 1361.0, \"km5_time_minutes\": 22.683333333333334}, {\"bmi\": 25.163183212280302, \"km5_time_seconds\": 1943.0, \"km5_time_minutes\": 32.38333333333333}, {\"bmi\": 20.419033050537102, \"km5_time_seconds\": 1320.0, \"km5_time_minutes\": 22.0}, {\"bmi\": 26.732013702392603, \"km5_time_seconds\": 1678.0, \"km5_time_minutes\": 27.966666666666665}, {\"bmi\": 24.1874504089355, \"km5_time_seconds\": 1478.0, \"km5_time_minutes\": 24.633333333333333}, {\"bmi\": 24.4432487487793, \"km5_time_seconds\": 1737.0, \"km5_time_minutes\": 28.95}, {\"bmi\": 21.537691116332997, \"km5_time_seconds\": 1459.0, \"km5_time_minutes\": 24.316666666666666}, {\"bmi\": 24.301830291748, \"km5_time_seconds\": 1335.0, \"km5_time_minutes\": 22.25}, {\"bmi\": 18.9196872711182, \"km5_time_seconds\": 1390.0, \"km5_time_minutes\": 23.166666666666668}, {\"bmi\": 21.2556381225586, \"km5_time_seconds\": 1230.0, \"km5_time_minutes\": 20.5}, {\"bmi\": 23.005733489990202, \"km5_time_seconds\": 1207.0, \"km5_time_minutes\": 20.116666666666667}, {\"bmi\": 29.296875, \"km5_time_seconds\": 1951.0, \"km5_time_minutes\": 32.516666666666666}, {\"bmi\": 42.4242401123047, \"km5_time_seconds\": 2103.0, \"km5_time_minutes\": 35.05}, {\"bmi\": 23.6150550842285, \"km5_time_seconds\": 1535.0, \"km5_time_minutes\": 25.583333333333332}, {\"bmi\": 23.8751163482666, \"km5_time_seconds\": 1454.0, \"km5_time_minutes\": 24.233333333333334}, {\"bmi\": 24.848485946655302, \"km5_time_seconds\": 1892.0, \"km5_time_minutes\": 31.533333333333335}, {\"bmi\": 22.681707382202102, \"km5_time_seconds\": 1916.0, \"km5_time_minutes\": 31.933333333333334}, {\"bmi\": 20.8995742797852, \"km5_time_seconds\": 1246.0, \"km5_time_minutes\": 20.766666666666666}, {\"bmi\": 28.340377807617198, \"km5_time_seconds\": 1860.0, \"km5_time_minutes\": 31.0}, {\"bmi\": 21.988592147827102, \"km5_time_seconds\": 1535.0, \"km5_time_minutes\": 25.583333333333332}, {\"bmi\": 21.3858814239502, \"km5_time_seconds\": 1620.0, \"km5_time_minutes\": 27.0}, {\"bmi\": 25.043827056884798, \"km5_time_seconds\": 1648.0, \"km5_time_minutes\": 27.466666666666665}, {\"bmi\": 21.988592147827102, \"km5_time_seconds\": 1564.0, \"km5_time_minutes\": 26.066666666666666}, {\"bmi\": 25.1651439666748, \"km5_time_seconds\": 1557.0, \"km5_time_minutes\": 25.95}, {\"bmi\": 22.377622604370103, \"km5_time_seconds\": 1350.0, \"km5_time_minutes\": 22.5}, {\"bmi\": 20.8116550445557, \"km5_time_seconds\": 1326.0, \"km5_time_minutes\": 22.1}, {\"bmi\": 24.0989780426025, \"km5_time_seconds\": 1622.0, \"km5_time_minutes\": 27.033333333333335}, {\"bmi\": 23.7926139831543, \"km5_time_seconds\": 2309.0, \"km5_time_minutes\": 38.483333333333334}, {\"bmi\": 24.5429515838623, \"km5_time_seconds\": 2017.0, \"km5_time_minutes\": 33.61666666666667}, {\"bmi\": 22.377622604370103, \"km5_time_seconds\": 1330.0, \"km5_time_minutes\": 22.166666666666668}, {\"bmi\": 25.7116622924805, \"km5_time_seconds\": 1675.0, \"km5_time_minutes\": 27.916666666666668}, {\"bmi\": 25.663057327270497, \"km5_time_seconds\": 1888.0, \"km5_time_minutes\": 31.466666666666665}, {\"bmi\": 22.9047832489014, \"km5_time_seconds\": 1172.0, \"km5_time_minutes\": 19.533333333333335}, {\"bmi\": 22.017044067382802, \"km5_time_seconds\": 1560.0, \"km5_time_minutes\": 26.0}, {\"bmi\": 33.735794067382805, \"km5_time_seconds\": 1554.0, \"km5_time_minutes\": 25.9}, {\"bmi\": 31.272142410278303, \"km5_time_seconds\": 2520.0, \"km5_time_minutes\": 42.0}, {\"bmi\": 28.058362960815398, \"km5_time_seconds\": 1621.0, \"km5_time_minutes\": 27.016666666666666}, {\"bmi\": 21.3707332611084, \"km5_time_seconds\": 1286.0, \"km5_time_minutes\": 21.433333333333334}, {\"bmi\": 23.1204776763916, \"km5_time_seconds\": 1201.0, \"km5_time_minutes\": 20.016666666666666}, {\"bmi\": 37.0648651123047, \"km5_time_seconds\": 2014.0, \"km5_time_minutes\": 33.56666666666667}, {\"bmi\": 21.861215591430696, \"km5_time_seconds\": 1347.0, \"km5_time_minutes\": 22.45}, {\"bmi\": 25.088598251342802, \"km5_time_seconds\": 1638.0, \"km5_time_minutes\": 27.3}, {\"bmi\": 21.306818008422898, \"km5_time_seconds\": 1268.0, \"km5_time_minutes\": 21.133333333333333}, {\"bmi\": 18.9196872711182, \"km5_time_seconds\": 1565.0, \"km5_time_minutes\": 26.083333333333332}, {\"bmi\": 19.200267791748, \"km5_time_seconds\": 1275.0, \"km5_time_minutes\": 21.25}, {\"bmi\": 23.232322692871104, \"km5_time_seconds\": 1800.0, \"km5_time_minutes\": 30.0}, {\"bmi\": 19.155483245849602, \"km5_time_seconds\": 1542.0, \"km5_time_minutes\": 25.7}, {\"bmi\": 18.699392318725604, \"km5_time_seconds\": 1386.0, \"km5_time_minutes\": 23.1}, {\"bmi\": 23.8209743499756, \"km5_time_seconds\": 1130.0, \"km5_time_minutes\": 18.833333333333332}, {\"bmi\": 21.072401046752898, \"km5_time_seconds\": 1078.0, \"km5_time_minutes\": 17.966666666666665}, {\"bmi\": 21.072401046752898, \"km5_time_seconds\": 1400.0, \"km5_time_minutes\": 23.333333333333332}, {\"bmi\": 21.5213356018066, \"km5_time_seconds\": 1680.0, \"km5_time_minutes\": 28.0}, {\"bmi\": 19.1761360168457, \"km5_time_seconds\": 1240.0, \"km5_time_minutes\": 20.666666666666668}, {\"bmi\": 18.9554271697998, \"km5_time_seconds\": 1741.0, \"km5_time_minutes\": 29.016666666666666}, {\"bmi\": 24.431360244751, \"km5_time_seconds\": 2280.0, \"km5_time_minutes\": 38.0}, {\"bmi\": 28.3107891082764, \"km5_time_seconds\": 1402.0, \"km5_time_minutes\": 23.366666666666667}, {\"bmi\": 23.2383003234863, \"km5_time_seconds\": 1630.0, \"km5_time_minutes\": 27.166666666666668}, {\"bmi\": 24.5028400421143, \"km5_time_seconds\": 1380.0, \"km5_time_minutes\": 23.0}, {\"bmi\": 21.622116088867198, \"km5_time_seconds\": 1684.0, \"km5_time_minutes\": 28.066666666666666}, {\"bmi\": 31.7221832275391, \"km5_time_seconds\": 1990.0, \"km5_time_minutes\": 33.166666666666664}, {\"bmi\": 19.858318328857397, \"km5_time_seconds\": 1402.0, \"km5_time_minutes\": 23.366666666666667}, {\"bmi\": 18.9349117279053, \"km5_time_seconds\": 1350.0, \"km5_time_minutes\": 22.5}, {\"bmi\": 23.8157939910889, \"km5_time_seconds\": 1667.0, \"km5_time_minutes\": 27.783333333333335}, {\"bmi\": 22.9047832489014, \"km5_time_seconds\": 1400.0, \"km5_time_minutes\": 23.333333333333332}, {\"bmi\": 23.374238967895497, \"km5_time_seconds\": 1100.0, \"km5_time_minutes\": 18.333333333333332}, {\"bmi\": 17.755680084228498, \"km5_time_seconds\": 1154.0, \"km5_time_minutes\": 19.233333333333334}, {\"bmi\": 25.597929000854503, \"km5_time_seconds\": 1518.0, \"km5_time_minutes\": 25.3}, {\"bmi\": 21.072401046752898, \"km5_time_seconds\": 1658.0, \"km5_time_minutes\": 27.633333333333333}, {\"bmi\": 25.6533584594727, \"km5_time_seconds\": 1477.0, \"km5_time_minutes\": 24.616666666666667}, {\"bmi\": 18.9554271697998, \"km5_time_seconds\": 1500.0, \"km5_time_minutes\": 25.0}, {\"bmi\": 17.1326122283936, \"km5_time_seconds\": 1421.0, \"km5_time_minutes\": 23.683333333333334}, {\"bmi\": 21.438877105712898, \"km5_time_seconds\": 1423.0, \"km5_time_minutes\": 23.716666666666665}, {\"bmi\": 21.5213356018066, \"km5_time_seconds\": 1808.0, \"km5_time_minutes\": 30.133333333333333}, {\"bmi\": 21.8716468811035, \"km5_time_seconds\": 1800.0, \"km5_time_minutes\": 30.0}, {\"bmi\": 22.085950851440398, \"km5_time_seconds\": 1338.0, \"km5_time_minutes\": 22.3}, {\"bmi\": 20.035062789917, \"km5_time_seconds\": 1201.0, \"km5_time_minutes\": 20.016666666666666}, {\"bmi\": 19.502986907959002, \"km5_time_seconds\": 1626.0, \"km5_time_minutes\": 27.1}, {\"bmi\": 22.805912017822298, \"km5_time_seconds\": 1980.0, \"km5_time_minutes\": 33.0}, {\"bmi\": 22.19460105896, \"km5_time_seconds\": 1467.0, \"km5_time_minutes\": 24.45}, {\"bmi\": 24.4410057067871, \"km5_time_seconds\": 2180.0, \"km5_time_minutes\": 36.333333333333336}, {\"bmi\": 22.5394439697266, \"km5_time_seconds\": 1732.0, \"km5_time_minutes\": 28.866666666666667}, {\"bmi\": 25.1651439666748, \"km5_time_seconds\": 1673.0, \"km5_time_minutes\": 27.883333333333333}, {\"bmi\": 18.3238258361816, \"km5_time_seconds\": 1427.0, \"km5_time_minutes\": 23.783333333333335}, {\"bmi\": 23.6496086120605, \"km5_time_seconds\": 1342.0, \"km5_time_minutes\": 22.366666666666667}, {\"bmi\": 23.16774559021, \"km5_time_seconds\": 1596.0, \"km5_time_minutes\": 26.6}, {\"bmi\": 22.19460105896, \"km5_time_seconds\": 1653.0, \"km5_time_minutes\": 27.55}, {\"bmi\": 23.1204776763916, \"km5_time_seconds\": 1556.0, \"km5_time_minutes\": 25.933333333333334}, {\"bmi\": 20.419033050537102, \"km5_time_seconds\": 1520.0, \"km5_time_minutes\": 25.333333333333332}, {\"bmi\": 19.972970962524396, \"km5_time_seconds\": 1451.0, \"km5_time_minutes\": 24.183333333333334}, {\"bmi\": 20.419033050537102, \"km5_time_seconds\": 1237.0, \"km5_time_minutes\": 20.616666666666667}, {\"bmi\": 22.0336589813232, \"km5_time_seconds\": 1251.0, \"km5_time_minutes\": 20.85}, {\"bmi\": 22.549758911132802, \"km5_time_seconds\": 1879.0, \"km5_time_minutes\": 31.316666666666666}, {\"bmi\": 24.7371654510498, \"km5_time_seconds\": 1716.0, \"km5_time_minutes\": 28.6}, {\"bmi\": 21.306818008422898, \"km5_time_seconds\": 1234.0, \"km5_time_minutes\": 20.566666666666666}, {\"bmi\": 22.19460105896, \"km5_time_seconds\": 1336.0, \"km5_time_minutes\": 22.266666666666666}, {\"bmi\": 20.2938194274902, \"km5_time_seconds\": 1514.0, \"km5_time_minutes\": 25.233333333333334}, {\"bmi\": 23.6496086120605, \"km5_time_seconds\": 1483.0, \"km5_time_minutes\": 24.716666666666665}, {\"bmi\": 32.0560989379883, \"km5_time_seconds\": 2230.0, \"km5_time_minutes\": 37.166666666666664}, {\"bmi\": 20.3119964599609, \"km5_time_seconds\": 1415.0, \"km5_time_minutes\": 23.583333333333332}, {\"bmi\": 21.306818008422898, \"km5_time_seconds\": 1364.0, \"km5_time_minutes\": 22.733333333333334}, {\"bmi\": 25.043827056884798, \"km5_time_seconds\": 1454.0, \"km5_time_minutes\": 24.233333333333334}, {\"bmi\": 21.3858814239502, \"km5_time_seconds\": 1630.0, \"km5_time_minutes\": 27.166666666666668}, {\"bmi\": 24.693300247192397, \"km5_time_seconds\": 1785.0, \"km5_time_minutes\": 29.75}, {\"bmi\": 20.522686004638697, \"km5_time_seconds\": 1220.0, \"km5_time_minutes\": 20.333333333333332}, {\"bmi\": 25.043827056884798, \"km5_time_seconds\": 1684.0, \"km5_time_minutes\": 28.066666666666666}, {\"bmi\": 21.3858814239502, \"km5_time_seconds\": 1697.0, \"km5_time_minutes\": 28.283333333333335}, {\"bmi\": 20.1562099456787, \"km5_time_seconds\": 1335.0, \"km5_time_minutes\": 22.25}, {\"bmi\": 25.921951293945302, \"km5_time_seconds\": 2130.0, \"km5_time_minutes\": 35.5}, {\"bmi\": 20.2515239715576, \"km5_time_seconds\": 1175.0, \"km5_time_minutes\": 19.583333333333332}, {\"bmi\": 22.873363494873, \"km5_time_seconds\": 1416.0, \"km5_time_minutes\": 23.6}, {\"bmi\": 23.749605178832997, \"km5_time_seconds\": 1644.0, \"km5_time_minutes\": 27.4}, {\"bmi\": 22.8940277099609, \"km5_time_seconds\": 1532.0, \"km5_time_minutes\": 25.533333333333335}, {\"bmi\": 20.8698558807373, \"km5_time_seconds\": 1462.0, \"km5_time_minutes\": 24.366666666666667}, {\"bmi\": 24.3787326812744, \"km5_time_seconds\": 1616.0, \"km5_time_minutes\": 26.933333333333334}, {\"bmi\": 24.1874504089355, \"km5_time_seconds\": 1630.0, \"km5_time_minutes\": 27.166666666666668}, {\"bmi\": 20.8698558807373, \"km5_time_seconds\": 1295.0, \"km5_time_minutes\": 21.583333333333332}, {\"bmi\": 26.732013702392603, \"km5_time_seconds\": 1621.0, \"km5_time_minutes\": 27.016666666666666}, {\"bmi\": 22.1718311309814, \"km5_time_seconds\": 2297.0, \"km5_time_minutes\": 38.28333333333333}, {\"bmi\": 21.818181991577102, \"km5_time_seconds\": 1447.0, \"km5_time_minutes\": 24.116666666666667}, {\"bmi\": 20.8116550445557, \"km5_time_seconds\": 1086.0, \"km5_time_minutes\": 18.1}, {\"bmi\": 20.8698558807373, \"km5_time_seconds\": 1440.0, \"km5_time_minutes\": 24.0}, {\"bmi\": 22.019502639770497, \"km5_time_seconds\": 1590.0, \"km5_time_minutes\": 26.5}, {\"bmi\": 19.2949905395508, \"km5_time_seconds\": 1352.0, \"km5_time_minutes\": 22.533333333333335}, {\"bmi\": 21.8716468811035, \"km5_time_seconds\": 1753.0, \"km5_time_minutes\": 29.216666666666665}, {\"bmi\": 23.2712593078613, \"km5_time_seconds\": 1267.0, \"km5_time_minutes\": 21.116666666666667}, {\"bmi\": 28.768409729003896, \"km5_time_seconds\": 1990.0, \"km5_time_minutes\": 33.166666666666664}, {\"bmi\": 22.19460105896, \"km5_time_seconds\": 1285.0, \"km5_time_minutes\": 21.416666666666668}, {\"bmi\": 34.2265625, \"km5_time_seconds\": 3679.0, \"km5_time_minutes\": 61.31666666666667}, {\"bmi\": 22.9047832489014, \"km5_time_seconds\": 1382.0, \"km5_time_minutes\": 23.033333333333335}, {\"bmi\": 21.3858814239502, \"km5_time_seconds\": 2100.0, \"km5_time_minutes\": 35.0}, {\"bmi\": 29.296875, \"km5_time_seconds\": 2220.0, \"km5_time_minutes\": 37.0}, {\"bmi\": 22.19460105896, \"km5_time_seconds\": 1236.0, \"km5_time_minutes\": 20.6}, {\"bmi\": 21.745231628418, \"km5_time_seconds\": 1360.0, \"km5_time_minutes\": 22.666666666666668}, {\"bmi\": 24.0420742034912, \"km5_time_seconds\": 1749.0, \"km5_time_minutes\": 29.15}, {\"bmi\": 23.970169067382802, \"km5_time_seconds\": 1644.0, \"km5_time_minutes\": 27.4}, {\"bmi\": 21.2121200561523, \"km5_time_seconds\": 1365.0, \"km5_time_minutes\": 22.75}, {\"bmi\": 20.202018737793, \"km5_time_seconds\": 1169.0, \"km5_time_minutes\": 19.483333333333334}, {\"bmi\": 25.9515552520752, \"km5_time_seconds\": 1875.0, \"km5_time_minutes\": 31.25}, {\"bmi\": 17.8645973205566, \"km5_time_seconds\": 1247.0, \"km5_time_minutes\": 20.783333333333335}, {\"bmi\": 18.3654727935791, \"km5_time_seconds\": 1096.0, \"km5_time_minutes\": 18.266666666666666}, {\"bmi\": 19.077083587646502, \"km5_time_seconds\": 1333.0, \"km5_time_minutes\": 22.216666666666665}, {\"bmi\": 22.5394439697266, \"km5_time_seconds\": 1525.0, \"km5_time_minutes\": 25.416666666666668}, {\"bmi\": 34.2265625, \"km5_time_seconds\": 2109.0, \"km5_time_minutes\": 35.15}, {\"bmi\": 18.636266708374, \"km5_time_seconds\": 1248.0, \"km5_time_minutes\": 20.8}, {\"bmi\": 23.0823860168457, \"km5_time_seconds\": 1839.0, \"km5_time_minutes\": 30.65}, {\"bmi\": 24.5028400421143, \"km5_time_seconds\": 1470.0, \"km5_time_minutes\": 24.5}, {\"bmi\": 26.2784080505371, \"km5_time_seconds\": 1563.0, \"km5_time_minutes\": 26.05}, {\"bmi\": 21.946836471557603, \"km5_time_seconds\": 1392.0, \"km5_time_minutes\": 23.2}, {\"bmi\": 20.244066238403303, \"km5_time_seconds\": 1580.0, \"km5_time_minutes\": 26.333333333333332}, {\"bmi\": 20.3119964599609, \"km5_time_seconds\": 1424.0, \"km5_time_minutes\": 23.733333333333334}, {\"bmi\": 23.8751163482666, \"km5_time_seconds\": 2122.0, \"km5_time_minutes\": 35.36666666666667}, {\"bmi\": 22.136034011840803, \"km5_time_seconds\": 1600.0, \"km5_time_minutes\": 26.666666666666668}, {\"bmi\": 23.804801940918, \"km5_time_seconds\": 1418.0, \"km5_time_minutes\": 23.633333333333333}, {\"bmi\": 21.8716468811035, \"km5_time_seconds\": 1860.0, \"km5_time_minutes\": 31.0}, {\"bmi\": 23.232322692871104, \"km5_time_seconds\": 1468.0, \"km5_time_minutes\": 24.466666666666665}, {\"bmi\": 23.6496086120605, \"km5_time_seconds\": 1240.0, \"km5_time_minutes\": 20.666666666666668}, {\"bmi\": 18.9393939971924, \"km5_time_seconds\": 1740.0, \"km5_time_minutes\": 29.0}, {\"bmi\": 23.2383003234863, \"km5_time_seconds\": 1628.0, \"km5_time_minutes\": 27.133333333333333}, {\"bmi\": 25.745737075805696, \"km5_time_seconds\": 1896.0, \"km5_time_minutes\": 31.6}, {\"bmi\": 46.9082145690918, \"km5_time_seconds\": 1701.0, \"km5_time_minutes\": 28.35}, {\"bmi\": 24.3787326812744, \"km5_time_seconds\": 1650.0, \"km5_time_minutes\": 27.5}, {\"bmi\": 29.000185012817397, \"km5_time_seconds\": 1490.0, \"km5_time_minutes\": 24.833333333333332}, {\"bmi\": 22.5182952880859, \"km5_time_seconds\": 1920.0, \"km5_time_minutes\": 32.0}, {\"bmi\": 23.0823860168457, \"km5_time_seconds\": 1803.0, \"km5_time_minutes\": 30.05}, {\"bmi\": 22.377622604370103, \"km5_time_seconds\": 1741.0, \"km5_time_minutes\": 29.016666666666666}, {\"bmi\": 21.306818008422898, \"km5_time_seconds\": 1110.0, \"km5_time_minutes\": 18.5}, {\"bmi\": 24.7099094390869, \"km5_time_seconds\": 1708.0, \"km5_time_minutes\": 28.466666666666665}, {\"bmi\": 23.8209743499756, \"km5_time_seconds\": 1665.0, \"km5_time_minutes\": 27.75}, {\"bmi\": 17.5669746398926, \"km5_time_seconds\": 1282.0, \"km5_time_minutes\": 21.366666666666667}, {\"bmi\": 22.377622604370103, \"km5_time_seconds\": 1422.0, \"km5_time_minutes\": 23.7}, {\"bmi\": 20.8698558807373, \"km5_time_seconds\": 1499.0, \"km5_time_minutes\": 24.983333333333334}, {\"bmi\": 28.0490875244141, \"km5_time_seconds\": 1712.0, \"km5_time_minutes\": 28.533333333333335}, {\"bmi\": 20.419033050537102, \"km5_time_seconds\": 1530.0, \"km5_time_minutes\": 25.5}, {\"bmi\": 22.3721580505371, \"km5_time_seconds\": 1544.0, \"km5_time_minutes\": 25.733333333333334}, {\"bmi\": 31.054346084594698, \"km5_time_seconds\": 2115.0, \"km5_time_minutes\": 35.25}, {\"bmi\": 20.737562179565398, \"km5_time_seconds\": 1303.0, \"km5_time_minutes\": 21.716666666666665}, {\"bmi\": 24.7371654510498, \"km5_time_seconds\": 1601.0, \"km5_time_minutes\": 26.683333333333334}, {\"bmi\": 26.109167098999, \"km5_time_seconds\": 1696.0, \"km5_time_minutes\": 28.266666666666666}, {\"bmi\": 32.4448471069336, \"km5_time_seconds\": 2460.0, \"km5_time_minutes\": 41.0}, {\"bmi\": 19.443414688110398, \"km5_time_seconds\": 1470.0, \"km5_time_minutes\": 24.5}, {\"bmi\": 24.0989780426025, \"km5_time_seconds\": 1729.0, \"km5_time_minutes\": 28.816666666666666}, {\"bmi\": 18.0742340087891, \"km5_time_seconds\": 1490.0, \"km5_time_minutes\": 24.833333333333332}, {\"bmi\": 25.1036434173584, \"km5_time_seconds\": 1667.0, \"km5_time_minutes\": 27.783333333333335}, {\"bmi\": 22.4913482666016, \"km5_time_seconds\": 1625.0, \"km5_time_minutes\": 27.083333333333332}, {\"bmi\": 26.019834518432603, \"km5_time_seconds\": 1617.0, \"km5_time_minutes\": 26.95}, {\"bmi\": 20.1980133056641, \"km5_time_seconds\": 1635.0, \"km5_time_minutes\": 27.25}, {\"bmi\": 21.172674179077102, \"km5_time_seconds\": 1460.0, \"km5_time_minutes\": 24.333333333333332}, {\"bmi\": 21.0615863800049, \"km5_time_seconds\": 1678.0, \"km5_time_minutes\": 27.966666666666665}, {\"bmi\": 25.745737075805696, \"km5_time_seconds\": 1605.0, \"km5_time_minutes\": 26.75}, {\"bmi\": 22.205486297607397, \"km5_time_seconds\": 1245.0, \"km5_time_minutes\": 20.75}, {\"bmi\": 21.172674179077102, \"km5_time_seconds\": 1524.0, \"km5_time_minutes\": 25.4}, {\"bmi\": 20.9517040252686, \"km5_time_seconds\": 1340.0, \"km5_time_minutes\": 22.333333333333332}, {\"bmi\": 24.209032058715803, \"km5_time_seconds\": 1661.0, \"km5_time_minutes\": 27.683333333333334}, {\"bmi\": 25.820333480835, \"km5_time_seconds\": 1760.0, \"km5_time_minutes\": 29.333333333333332}, {\"bmi\": 24.209032058715803, \"km5_time_seconds\": 2122.0, \"km5_time_minutes\": 35.36666666666667}, {\"bmi\": 30.426715850830103, \"km5_time_seconds\": 2344.0, \"km5_time_minutes\": 39.06666666666667}, {\"bmi\": 19.7011451721191, \"km5_time_seconds\": 1609.0, \"km5_time_minutes\": 26.816666666666666}, {\"bmi\": 26.633522033691396, \"km5_time_seconds\": 2185.0, \"km5_time_minutes\": 36.416666666666664}, {\"bmi\": 25.2868804931641, \"km5_time_seconds\": 1980.0, \"km5_time_minutes\": 33.0}, {\"bmi\": 22.5394439697266, \"km5_time_seconds\": 1690.0, \"km5_time_minutes\": 28.166666666666668}, {\"bmi\": 24.949878692627, \"km5_time_seconds\": 1560.0, \"km5_time_minutes\": 26.0}, {\"bmi\": 23.5923233032227, \"km5_time_seconds\": 1245.0, \"km5_time_minutes\": 20.75}, {\"bmi\": 23.4541072845459, \"km5_time_seconds\": 1562.0, \"km5_time_minutes\": 26.033333333333335}, {\"bmi\": 23.0403213500977, \"km5_time_seconds\": 1516.0, \"km5_time_minutes\": 25.266666666666666}, {\"bmi\": 24.3787326812744, \"km5_time_seconds\": 1487.0, \"km5_time_minutes\": 24.783333333333335}, {\"bmi\": 21.484375, \"km5_time_seconds\": 1927.0, \"km5_time_minutes\": 32.11666666666667}, {\"bmi\": 20.8698558807373, \"km5_time_seconds\": 1151.0, \"km5_time_minutes\": 19.183333333333334}, {\"bmi\": 28.379529953002898, \"km5_time_seconds\": 1760.0, \"km5_time_minutes\": 29.333333333333332}, {\"bmi\": 29.8295459747314, \"km5_time_seconds\": 2527.0, \"km5_time_minutes\": 42.11666666666667}, {\"bmi\": 20.1562099456787, \"km5_time_seconds\": 1274.0, \"km5_time_minutes\": 21.233333333333334}, {\"bmi\": 24.209032058715803, \"km5_time_seconds\": 1660.0, \"km5_time_minutes\": 27.666666666666668}, {\"bmi\": 21.861215591430696, \"km5_time_seconds\": 1332.0, \"km5_time_minutes\": 22.2}, {\"bmi\": 25.541578292846697, \"km5_time_seconds\": 1485.0, \"km5_time_minutes\": 24.75}, {\"bmi\": 23.0823860168457, \"km5_time_seconds\": 1535.0, \"km5_time_minutes\": 25.583333333333332}, {\"bmi\": 20.522686004638697, \"km5_time_seconds\": 1419.0, \"km5_time_minutes\": 23.65}, {\"bmi\": 24.612573623657198, \"km5_time_seconds\": 1530.0, \"km5_time_minutes\": 25.5}, {\"bmi\": 20.6562671661377, \"km5_time_seconds\": 1608.0, \"km5_time_minutes\": 26.8}, {\"bmi\": 19.7055625915527, \"km5_time_seconds\": 1427.0, \"km5_time_minutes\": 23.783333333333335}, {\"bmi\": 23.831274032592802, \"km5_time_seconds\": 1648.0, \"km5_time_minutes\": 27.466666666666665}, {\"bmi\": 18.9985790252686, \"km5_time_seconds\": 1486.0, \"km5_time_minutes\": 24.766666666666666}, {\"bmi\": 22.626262664794897, \"km5_time_seconds\": 1414.0, \"km5_time_minutes\": 23.566666666666666}, {\"bmi\": 24.209032058715803, \"km5_time_seconds\": 2040.0, \"km5_time_minutes\": 34.0}]}}, {\"mode\": \"vega-lite\"});\n",
       "</script>"
      ],
      "text/plain": [
       "alt.Chart(...)"
      ]
     },
     "execution_count": 12,
     "metadata": {},
     "output_type": "execute_result"
    }
   ],
   "source": [
    "# Fill in the correct functions in place of \"...\" in the code skeleton given below.\n",
    "# To run the code, uncomment it (remove \"#\").\n",
    "\n",
    "race_times_plot = alt.Chart(race_times_women).mark_circle(size=60, opacity=0.3).encode(\n",
    "    x=alt.X(\"bmi\", title=\"bmi\"),\n",
    "    y=alt.Y(\"km5_time_minutes\", title=\"km5_time_minutes\")\n",
    ")\n",
    "race_times_plot = race_times_plot.configure_axis(\n",
    "    labelFontSize=12,\n",
    "    titleFontSize=14\n",
    ")\n",
    "\n",
    "\n",
    "race_times_plot"
   ]
  },
  {
   "cell_type": "code",
   "execution_count": 13,
   "metadata": {
    "deletable": false,
    "editable": false,
    "nbgrader": {
     "cell_type": "code",
     "checksum": "1295a53d9f4141a484db68bd619ba292",
     "grade": true,
     "grade_id": "cell-48726b9be0d978fb",
     "locked": true,
     "points": 1,
     "schema_version": 3,
     "solution": false,
     "task": false
    }
   },
   "outputs": [
    {
     "ename": "AssertionError",
     "evalue": "Y axes should be more human readable than the column name",
     "output_type": "error",
     "traceback": [
      "\u001b[0;31m---------------------------------------------------------------------------\u001b[0m",
      "\u001b[0;31mAssertionError\u001b[0m                            Traceback (most recent call last)",
      "\u001b[0;32m<ipython-input-13-06da4c460549>\u001b[0m in \u001b[0;36m<module>\u001b[0;34m\u001b[0m\n\u001b[1;32m      1\u001b[0m \u001b[0;31m# run this cell to test your answer to the question above\u001b[0m\u001b[0;34m\u001b[0m\u001b[0;34m\u001b[0m\u001b[0;34m\u001b[0m\u001b[0m\n\u001b[0;32m----> 2\u001b[0;31m \u001b[0mt\u001b[0m\u001b[0;34m.\u001b[0m\u001b[0mtest_2_5\u001b[0m\u001b[0;34m(\u001b[0m\u001b[0mrace_times_plot\u001b[0m\u001b[0;34m)\u001b[0m\u001b[0;34m\u001b[0m\u001b[0;34m\u001b[0m\u001b[0m\n\u001b[0m",
      "\u001b[0;32m~/Documents/feed-me-back/examples/04-jupyter-nbgrader-python/autograded/bitdiddle/worksheet_01_python/tests_worksheet_01.py\u001b[0m in \u001b[0;36mtest_2_5\u001b[0;34m(answer)\u001b[0m\n\u001b[1;32m     52\u001b[0m     \u001b[0;32massert\u001b[0m \u001b[0;34m(\u001b[0m\u001b[0manswer\u001b[0m\u001b[0;34m.\u001b[0m\u001b[0mencoding\u001b[0m\u001b[0;34m.\u001b[0m\u001b[0my\u001b[0m\u001b[0;34m.\u001b[0m\u001b[0mshorthand\u001b[0m \u001b[0;34m==\u001b[0m \u001b[0;34m\"km5_time_minutes\"\u001b[0m \u001b[0;32mor\u001b[0m \u001b[0manswer\u001b[0m\u001b[0;34m.\u001b[0m\u001b[0mencoding\u001b[0m\u001b[0;34m.\u001b[0m\u001b[0my\u001b[0m\u001b[0;34m.\u001b[0m\u001b[0mfield\u001b[0m \u001b[0;34m==\u001b[0m \u001b[0;34m\"km5_time_minutes\"\u001b[0m\u001b[0;34m)\u001b[0m\u001b[0;34m,\u001b[0m \u001b[0;34m\"km5_time_minutes should be mapped to the X-axis\"\u001b[0m\u001b[0;34m\u001b[0m\u001b[0;34m\u001b[0m\u001b[0m\n\u001b[1;32m     53\u001b[0m     \u001b[0;32massert\u001b[0m \u001b[0manswer\u001b[0m\u001b[0;34m.\u001b[0m\u001b[0mmark\u001b[0m\u001b[0;34m.\u001b[0m\u001b[0mtype\u001b[0m \u001b[0;34m==\u001b[0m \u001b[0;34m\"circle\"\u001b[0m\u001b[0;34m,\u001b[0m \u001b[0;34m\"mark_circle should be used to create the scatter plot\"\u001b[0m\u001b[0;34m\u001b[0m\u001b[0;34m\u001b[0m\u001b[0m\n\u001b[0;32m---> 54\u001b[0;31m     \u001b[0;32massert\u001b[0m \u001b[0manswer\u001b[0m\u001b[0;34m.\u001b[0m\u001b[0mencoding\u001b[0m\u001b[0;34m.\u001b[0m\u001b[0my\u001b[0m\u001b[0;34m.\u001b[0m\u001b[0mtitle\u001b[0m \u001b[0;34m!=\u001b[0m \u001b[0;34m\"km5_time_minutes\"\u001b[0m\u001b[0;34m,\u001b[0m \u001b[0;34m\"Y axes should be more human readable than the column name\"\u001b[0m\u001b[0;34m\u001b[0m\u001b[0;34m\u001b[0m\u001b[0m\n\u001b[0m\u001b[1;32m     55\u001b[0m     \u001b[0;32massert\u001b[0m \u001b[0manswer\u001b[0m\u001b[0;34m.\u001b[0m\u001b[0mencoding\u001b[0m\u001b[0;34m.\u001b[0m\u001b[0mx\u001b[0m\u001b[0;34m.\u001b[0m\u001b[0mtitle\u001b[0m \u001b[0;34m!=\u001b[0m \u001b[0;34m\"bmi\"\u001b[0m\u001b[0;34m,\u001b[0m \u001b[0;34m\"X axes should be more human readable than the column name\"\u001b[0m\u001b[0;34m\u001b[0m\u001b[0;34m\u001b[0m\u001b[0m\n\u001b[1;32m     56\u001b[0m     \u001b[0;32mreturn\u001b[0m \u001b[0;34m\"Success\"\u001b[0m\u001b[0;34m\u001b[0m\u001b[0;34m\u001b[0m\u001b[0m\n",
      "\u001b[0;31mAssertionError\u001b[0m: Y axes should be more human readable than the column name"
     ]
    }
   ],
   "source": [
    "# run this cell to test your answer to the question above\n",
    "t.test_2_5(race_times_plot)"
   ]
  },
  {
   "cell_type": "markdown",
   "metadata": {
    "deletable": false,
    "editable": false,
    "nbgrader": {
     "cell_type": "markdown",
     "checksum": "af95ae3a825f36f03419c8d10538dc8b",
     "grade": false,
     "grade_id": "cell-bdc859bb78a43c42",
     "locked": true,
     "schema_version": 3,
     "solution": false
    }
   },
   "source": [
    "### Question 2.6 - Multiple Choice\n",
    "{points: 1}\n",
    "\n",
    "Looking at the graph above, choose a statement above that most reflects what we see?\n",
    "\n",
    "A. There appears to be no trelationship between 5 km run time and body mass index for women; as the value for for body mass index increases we see neither an increase or decrease in the time it takes to run 10 km.\n",
    "\n",
    "B. There may be a postitive relationship between 5 km run time and body mass index for women; as the value for for body mass index increases, so does the time it takes to run 5 km.\n",
    "\n",
    "C. There may be a negative relationship between 5 km run time and body mass index for women; as the value for for body mass index increases, the time it takes to run 5 km decreases.\n",
    "\n",
    "*Assign the letter that corresponds to your answer to an object called `answer2_6`. Be sure to surround your answer with quotation marks.* "
   ]
  },
  {
   "cell_type": "code",
   "execution_count": 14,
   "metadata": {
    "deletable": false,
    "nbgrader": {
     "cell_type": "code",
     "checksum": "5be9406c4e5e96395debcf38c45e1673",
     "grade": false,
     "grade_id": "cell-3294e67b2ac425f7",
     "locked": false,
     "schema_version": 3,
     "solution": true
    }
   },
   "outputs": [],
   "source": [
    "# Replace NULL with the letter that corresponds to your answer.\n",
    "# Be sure to surround your answer with quotation marks.\n",
    "answer2_6 = None\n",
    "\n",
    "answer2_6"
   ]
  },
  {
   "cell_type": "code",
   "execution_count": 15,
   "metadata": {
    "deletable": false,
    "editable": false,
    "nbgrader": {
     "cell_type": "code",
     "checksum": "ae8c57bf2b97c6865b58859abb0ef2a8",
     "grade": true,
     "grade_id": "cell-f79260c10ed592af",
     "locked": true,
     "points": 1,
     "schema_version": 3,
     "solution": false
    }
   },
   "outputs": [
    {
     "ename": "AssertionError",
     "evalue": "You should assign a value of \"A\", \"B\", \"C\", or \"D\" to the answer2_6 object.",
     "output_type": "error",
     "traceback": [
      "\u001b[0;31m---------------------------------------------------------------------------\u001b[0m",
      "\u001b[0;31mAssertionError\u001b[0m                            Traceback (most recent call last)",
      "\u001b[0;32m<ipython-input-15-28a9d91c5bef>\u001b[0m in \u001b[0;36m<module>\u001b[0;34m\u001b[0m\n\u001b[1;32m      1\u001b[0m \u001b[0;31m# run this cell to test your answer to the question above\u001b[0m\u001b[0;34m\u001b[0m\u001b[0;34m\u001b[0m\u001b[0;34m\u001b[0m\u001b[0m\n\u001b[0;32m----> 2\u001b[0;31m \u001b[0mt\u001b[0m\u001b[0;34m.\u001b[0m\u001b[0mtest_2_6\u001b[0m\u001b[0;34m(\u001b[0m\u001b[0manswer2_6\u001b[0m\u001b[0;34m)\u001b[0m\u001b[0;34m\u001b[0m\u001b[0;34m\u001b[0m\u001b[0m\n\u001b[0m",
      "\u001b[0;32m~/Documents/feed-me-back/examples/04-jupyter-nbgrader-python/autograded/bitdiddle/worksheet_01_python/tests_worksheet_01.py\u001b[0m in \u001b[0;36mtest_2_6\u001b[0;34m(answer)\u001b[0m\n\u001b[1;32m     58\u001b[0m \u001b[0;34m\u001b[0m\u001b[0m\n\u001b[1;32m     59\u001b[0m \u001b[0;32mdef\u001b[0m \u001b[0mtest_2_6\u001b[0m\u001b[0;34m(\u001b[0m\u001b[0manswer\u001b[0m\u001b[0;34m)\u001b[0m\u001b[0;34m:\u001b[0m\u001b[0;34m\u001b[0m\u001b[0;34m\u001b[0m\u001b[0m\n\u001b[0;32m---> 60\u001b[0;31m     \u001b[0;32massert\u001b[0m \u001b[0manswer\u001b[0m \u001b[0;32mis\u001b[0m \u001b[0;32mnot\u001b[0m \u001b[0;32mNone\u001b[0m\u001b[0;34m,\u001b[0m \u001b[0;34m'You should assign a value of \"A\", \"B\", \"C\", or \"D\" to the answer2_6 object.'\u001b[0m\u001b[0;34m\u001b[0m\u001b[0;34m\u001b[0m\u001b[0m\n\u001b[0m\u001b[1;32m     61\u001b[0m     \u001b[0manswer\u001b[0m \u001b[0;34m=\u001b[0m \u001b[0manswer\u001b[0m\u001b[0;34m.\u001b[0m\u001b[0mupper\u001b[0m\u001b[0;34m(\u001b[0m\u001b[0;34m)\u001b[0m\u001b[0;34m\u001b[0m\u001b[0;34m\u001b[0m\u001b[0m\n\u001b[1;32m     62\u001b[0m     assert sha1(str(answer + \"X\").encode('utf8')).hexdigest(\n",
      "\u001b[0;31mAssertionError\u001b[0m: You should assign a value of \"A\", \"B\", \"C\", or \"D\" to the answer2_6 object."
     ]
    }
   ],
   "source": [
    "# run this cell to test your answer to the question above\n",
    "t.test_2_6(answer2_6)"
   ]
  },
  {
   "cell_type": "markdown",
   "metadata": {
    "deletable": false,
    "editable": false,
    "nbgrader": {
     "cell_type": "markdown",
     "checksum": "a6dc1f7161bdadbaf5ec070b839fa0da",
     "grade": false,
     "grade_id": "cell-c2e761c4721e274f",
     "locked": true,
     "schema_version": 3,
     "solution": false
    }
   },
   "source": [
    "## Attributions\n",
    "- UBC [DSCI 100 Public Material](https://github.com/UBC-DSCI/dsci-100-assets)\n",
    "- UC Berkley [Data 8 Public Materials](https://github.com/data-8/data8assets)"
   ]
  }
 ],
 "metadata": {
  "kernelspec": {
   "display_name": "Python 3",
   "language": "python",
   "name": "python3"
  },
  "language_info": {
   "codemirror_mode": {
    "name": "ipython",
    "version": 3
   },
   "file_extension": ".py",
   "mimetype": "text/x-python",
   "name": "python",
   "nbconvert_exporter": "python",
   "pygments_lexer": "ipython3",
   "version": "3.7.6"
  }
 },
 "nbformat": 4,
 "nbformat_minor": 2
}
